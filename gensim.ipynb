{
 "cells": [
  {
   "cell_type": "markdown",
   "metadata": {},
   "source": [
    "### Loading and prerequesites"
   ]
  },
  {
   "cell_type": "code",
   "execution_count": 13,
   "metadata": {},
   "outputs": [],
   "source": [
    "import spacy\n",
    "import pandas as pd\n",
    "import numpy as np\n",
    "import matplotlib.pyplot as plt\n",
    "import scipy\n",
    "import statsmodels.api as sm\n",
    "import gensim\n",
    "from pprint import pprint\n",
    "from collections import defaultdict\n",
    "from gensim import corpora\n",
    "from gensim.test.utils import datapath\n",
    "from gensim import utils\n",
    "import gensim.models\n",
    "\n",
    "import logging\n",
    "logging.basicConfig(format='%(asctime)s : %(levelname)s : %(message)s', level=logging.INFO)\n",
    "\n",
    "from matplotlib import rcParams\n",
    "rcParams.update({'figure.autolayout': True})"
   ]
  },
  {
   "cell_type": "code",
   "execution_count": 14,
   "metadata": {},
   "outputs": [],
   "source": [
    "VARIANT = \"MEDIUM\" # \"SMALL\", \"MEDIUM\" , \"FULL\"\n",
    "\n",
    "if VARIANT == \"SMALL\":\n",
    "    df = pd.read_pickle(\"../Data/df_full.pkl\")\n",
    "    df = df.head(30)\n",
    "elif VARIANT == \"MEDIUM\":\n",
    "    df = pd.read_pickle(\"../Data/df_full.pkl\")\n",
    "    df = df.head(500)\n",
    "else:\n",
    "    df = pd.read_pickle(\"../Data/df_full.pkl\")"
   ]
  },
  {
   "cell_type": "code",
   "execution_count": 15,
   "metadata": {},
   "outputs": [],
   "source": [
    "# Load stopwords from txt file using utf-8 encoding\n",
    "with open(\"../Data/stopwords-de.txt\", \"r\", encoding=\"utf-8\") as file:\n",
    "    stoplist = file.read().split(\"\\n\")"
   ]
  },
  {
   "cell_type": "markdown",
   "metadata": {},
   "source": [
    "### bla bla"
   ]
  },
  {
   "cell_type": "code",
   "execution_count": 16,
   "metadata": {},
   "outputs": [
    {
     "name": "stderr",
     "output_type": "stream",
     "text": [
      "2024-02-12 19:40:31,106 : INFO : adding document #0 to Dictionary<0 unique tokens: []>\n",
      "2024-02-12 19:40:31,179 : INFO : built Dictionary<13243 unique tokens: ['000', '122', '15', '150', '16']...> from 500 documents (total 135110 corpus positions)\n",
      "2024-02-12 19:40:31,180 : INFO : Dictionary lifecycle event {'msg': \"built Dictionary<13243 unique tokens: ['000', '122', '15', '150', '16']...> from 500 documents (total 135110 corpus positions)\", 'datetime': '2024-02-12T19:40:31.180914', 'gensim': '4.3.2', 'python': '3.10.10 (tags/v3.10.10:aad5f6a, Feb  7 2023, 17:20:36) [MSC v.1929 64 bit (AMD64)]', 'platform': 'Windows-10-10.0.19045-SP0', 'event': 'created'}\n",
      "2024-02-12 19:40:31,238 : INFO : Dictionary lifecycle event {'fname_or_handle': '../Data/Gensim/dict.dict', 'separately': 'None', 'sep_limit': 10485760, 'ignore': frozenset(), 'datetime': '2024-02-12T19:40:31.238912', 'gensim': '4.3.2', 'python': '3.10.10 (tags/v3.10.10:aad5f6a, Feb  7 2023, 17:20:36) [MSC v.1929 64 bit (AMD64)]', 'platform': 'Windows-10-10.0.19045-SP0', 'event': 'saving'}\n",
      "2024-02-12 19:40:31,242 : INFO : saved ../Data/Gensim/dict.dict\n",
      "2024-02-12 19:40:31,243 : INFO : storing corpus in Matrix Market format to ../Data/Gensim/df_corpus.mm\n",
      "2024-02-12 19:40:31,244 : INFO : saving sparse matrix to ../Data/Gensim/df_corpus.mm\n",
      "2024-02-12 19:40:31,245 : INFO : PROGRESS: saving document #0\n",
      "2024-02-12 19:40:31,295 : INFO : saved 500x13243 matrix, density=1.463% (96879/6621500)\n",
      "2024-02-12 19:40:31,295 : INFO : saving MmCorpus index to ../Data/Gensim/df_corpus.mm.index\n"
     ]
    }
   ],
   "source": [
    "# Create a list of documents from the dataframe column \"clean_text\"\n",
    "documents = df[\"clean_text\"].values.tolist()\n",
    "\n",
    "# remove common words and tokenize\n",
    "texts = [\n",
    "    [word for word in document.lower().split() if word not in stoplist]\n",
    "    for document in documents\n",
    "]\n",
    "\n",
    "# remove words that appear only once\n",
    "frequency = defaultdict(int)\n",
    "for text in texts:\n",
    "    for token in text:\n",
    "        frequency[token] += 1\n",
    "\n",
    "texts = [\n",
    "    [token for token in text if frequency[token] > 1]\n",
    "    for text in texts\n",
    "]\n",
    "\n",
    "dictionary = corpora.Dictionary(texts)\n",
    "corpus = [dictionary.doc2bow(text) for text in texts]\n",
    "\n",
    "# Save the dictionary and corpus for later use\n",
    "dictionary.save(\"../Data/Gensim/dict.dict\")\n",
    "corpora.MmCorpus.serialize(\"../Data/Gensim/df_corpus.mm\", corpus)"
   ]
  },
  {
   "cell_type": "code",
   "execution_count": 17,
   "metadata": {},
   "outputs": [
    {
     "name": "stderr",
     "output_type": "stream",
     "text": [
      "2024-02-12 19:40:31,311 : INFO : collecting all words and their counts\n",
      "2024-02-12 19:40:31,311 : INFO : PROGRESS: at sentence #0, processed 0 words, keeping 0 word types\n",
      "2024-02-12 19:40:31,332 : INFO : collected 13243 word types from a corpus of 135110 raw words and 500 sentences\n",
      "2024-02-12 19:40:31,332 : INFO : Creating a fresh vocabulary\n",
      "2024-02-12 19:40:31,336 : INFO : Word2Vec lifecycle event {'msg': 'effective_min_count=50 retains 471 unique words (3.56% of original 13243, drops 12772)', 'datetime': '2024-02-12T19:40:31.336996', 'gensim': '4.3.2', 'python': '3.10.10 (tags/v3.10.10:aad5f6a, Feb  7 2023, 17:20:36) [MSC v.1929 64 bit (AMD64)]', 'platform': 'Windows-10-10.0.19045-SP0', 'event': 'prepare_vocab'}\n",
      "2024-02-12 19:40:31,337 : INFO : Word2Vec lifecycle event {'msg': 'effective_min_count=50 leaves 52748 word corpus (39.04% of original 135110, drops 82362)', 'datetime': '2024-02-12T19:40:31.337424', 'gensim': '4.3.2', 'python': '3.10.10 (tags/v3.10.10:aad5f6a, Feb  7 2023, 17:20:36) [MSC v.1929 64 bit (AMD64)]', 'platform': 'Windows-10-10.0.19045-SP0', 'event': 'prepare_vocab'}\n",
      "2024-02-12 19:40:31,339 : INFO : deleting the raw counts dictionary of 13243 items\n",
      "2024-02-12 19:40:31,339 : INFO : sample=0.001 downsamples 88 most-common words\n",
      "2024-02-12 19:40:31,339 : INFO : Word2Vec lifecycle event {'msg': 'downsampling leaves estimated 44233.06357639621 word corpus (83.9%% of prior 52748)', 'datetime': '2024-02-12T19:40:31.339843', 'gensim': '4.3.2', 'python': '3.10.10 (tags/v3.10.10:aad5f6a, Feb  7 2023, 17:20:36) [MSC v.1929 64 bit (AMD64)]', 'platform': 'Windows-10-10.0.19045-SP0', 'event': 'prepare_vocab'}\n",
      "2024-02-12 19:40:31,342 : INFO : estimated required memory for 471 words and 100 dimensions: 612300 bytes\n",
      "2024-02-12 19:40:31,342 : INFO : resetting layer weights\n",
      "2024-02-12 19:40:31,342 : INFO : Word2Vec lifecycle event {'update': False, 'trim_rule': 'None', 'datetime': '2024-02-12T19:40:31.342716', 'gensim': '4.3.2', 'python': '3.10.10 (tags/v3.10.10:aad5f6a, Feb  7 2023, 17:20:36) [MSC v.1929 64 bit (AMD64)]', 'platform': 'Windows-10-10.0.19045-SP0', 'event': 'build_vocab'}\n",
      "2024-02-12 19:40:31,342 : INFO : Word2Vec lifecycle event {'msg': 'training model with 4 workers on 471 vocabulary and 100 features, using sg=0 hs=0 sample=0.001 negative=5 window=5 shrink_windows=True', 'datetime': '2024-02-12T19:40:31.342716', 'gensim': '4.3.2', 'python': '3.10.10 (tags/v3.10.10:aad5f6a, Feb  7 2023, 17:20:36) [MSC v.1929 64 bit (AMD64)]', 'platform': 'Windows-10-10.0.19045-SP0', 'event': 'train'}\n",
      "2024-02-12 19:40:31,365 : INFO : EPOCH 0: training on 135110 raw words (44147 effective words) took 0.0s, 2289117 effective words/s\n",
      "2024-02-12 19:40:31,386 : INFO : EPOCH 1: training on 135110 raw words (44174 effective words) took 0.0s, 2395631 effective words/s\n",
      "2024-02-12 19:40:31,405 : INFO : EPOCH 2: training on 135110 raw words (44363 effective words) took 0.0s, 2455077 effective words/s\n",
      "2024-02-12 19:40:31,425 : INFO : EPOCH 3: training on 135110 raw words (44145 effective words) took 0.0s, 2434659 effective words/s\n",
      "2024-02-12 19:40:31,445 : INFO : EPOCH 4: training on 135110 raw words (44212 effective words) took 0.0s, 2393707 effective words/s\n",
      "2024-02-12 19:40:31,445 : INFO : Word2Vec lifecycle event {'msg': 'training on 675550 raw words (221041 effective words) took 0.1s, 2140725 effective words/s', 'datetime': '2024-02-12T19:40:31.445457', 'gensim': '4.3.2', 'python': '3.10.10 (tags/v3.10.10:aad5f6a, Feb  7 2023, 17:20:36) [MSC v.1929 64 bit (AMD64)]', 'platform': 'Windows-10-10.0.19045-SP0', 'event': 'train'}\n",
      "2024-02-12 19:40:31,445 : INFO : Word2Vec lifecycle event {'params': 'Word2Vec<vocab=471, vector_size=100, alpha=0.025>', 'datetime': '2024-02-12T19:40:31.445457', 'gensim': '4.3.2', 'python': '3.10.10 (tags/v3.10.10:aad5f6a, Feb  7 2023, 17:20:36) [MSC v.1929 64 bit (AMD64)]', 'platform': 'Windows-10-10.0.19045-SP0', 'event': 'created'}\n"
     ]
    },
    {
     "name": "stdout",
     "output_type": "stream",
     "text": [
      "word #0/471 is sagen\n",
      "word #1/471 is fleisch\n",
      "word #2/471 is geben\n",
      "word #3/471 is produkt\n",
      "word #4/471 is neu\n",
      "word #5/471 is prozent\n",
      "word #6/471 is lebensmittel\n",
      "word #7/471 is unternehmen\n",
      "word #8/471 is million\n",
      "word #9/471 is stehen\n"
     ]
    }
   ],
   "source": [
    "# Build a word2vec model\n",
    "model = gensim.models.Word2Vec(texts, window=5, min_count=50, workers=4)\n",
    "\n",
    "for index, word in enumerate(model.wv.index_to_key):\n",
    "    if index == 10:\n",
    "        break\n",
    "    print(f\"word #{index}/{len(model.wv.index_to_key)} is {word}\")"
   ]
  },
  {
   "cell_type": "code",
   "execution_count": 18,
   "metadata": {},
   "outputs": [
    {
     "data": {
      "text/html": [
       "        <script type=\"text/javascript\">\n",
       "        window.PlotlyConfig = {MathJaxConfig: 'local'};\n",
       "        if (window.MathJax && window.MathJax.Hub && window.MathJax.Hub.Config) {window.MathJax.Hub.Config({SVG: {font: \"STIX-Web\"}});}\n",
       "        if (typeof require !== 'undefined') {\n",
       "        require.undef(\"plotly\");\n",
       "        requirejs.config({\n",
       "            paths: {\n",
       "                'plotly': ['https://cdn.plot.ly/plotly-2.27.0.min']\n",
       "            }\n",
       "        });\n",
       "        require(['plotly'], function(Plotly) {\n",
       "            window._Plotly = Plotly;\n",
       "        });\n",
       "        }\n",
       "        </script>\n",
       "        "
      ]
     },
     "metadata": {},
     "output_type": "display_data"
    },
    {
     "data": {
      "application/vnd.plotly.v1+json": {
       "config": {
        "linkText": "Export to plot.ly",
        "plotlyServerURL": "https://plot.ly",
        "showLink": false
       },
       "data": [
        {
         "mode": "text",
         "text": [
          "sagen",
          "fleisch",
          "geben",
          "produkt",
          "neu",
          "prozent",
          "lebensmittel",
          "unternehmen",
          "million",
          "stehen",
          "deutschland",
          "sehen",
          "vieler",
          "insekt",
          "essen",
          "welt",
          "gentechnisch",
          "tier",
          "euro",
          "verändert",
          "usa",
          "milliarde",
          "markt",
          "finden",
          "schweiz",
          "deutsch",
          "gentechnik",
          "land",
          "bringen",
          "leben",
          "eu",
          "verbraucher",
          "europa",
          "vegan",
          "landwirtschaft",
          "meat",
          "pflanze",
          "labor",
          "stellen",
          "wichtig",
          "lassen",
          "berlin",
          "pflanzlich",
          "weltweit",
          "firma",
          "liegen",
          "gelten",
          "bleiben",
          "herstellen",
          "setzen",
          "zukunft",
          "zeigen",
          "europäisch",
          "schweizer",
          "halten",
          "ernährung",
          "frage",
          "kultiviert",
          "startup",
          "protein",
          "problem",
          "produzieren",
          "thema",
          "laut",
          "laborfleisch",
          "brauchen",
          "nachhaltig",
          "produktion",
          "zudem",
          "nehmen",
          "deutlich",
          "stark",
          "berliner",
          "entwickeln",
          "tierisch",
          "preis",
          "gehören",
          "burger",
          "entwicklung",
          "erklären",
          "fall",
          "arbeiten",
          "technologie",
          "einfach",
          "ziel",
          "dollar",
          "klar",
          "klein",
          "heißen",
          "sogar",
          "kosten",
          "bereich",
          "schaffen",
          "forscher",
          "20",
          "führen",
          "wachsen",
          "geld",
          "milch",
          "derzeit",
          "grüne",
          "herstellung",
          "bestehen",
          "studie",
          "genfood",
          "umwelt",
          "zelle",
          "fast",
          "sprechen",
          "bauer",
          "steigen",
          "verkaufen",
          "000",
          "woche",
          "kunde",
          "letzter",
          "erreichen",
          "jung",
          "art",
          "bell",
          "schnell",
          "pro",
          "food",
          "anbau",
          "grund",
          "nutzen",
          "kaufen",
          "nennen",
          "alt",
          "nächster",
          "ttip",
          "entstehen",
          "erhalten",
          "schreiben",
          "alternative",
          "global",
          "franken",
          "grün",
          "konsument",
          "frau",
          "landwirt",
          "bekommen",
          "enthalten",
          "fordern",
          "züchten",
          "genau",
          "künftig",
          "schmecken",
          "verändern",
          "energie",
          "sicher",
          "anfang",
          "geschmack",
          "30",
          "invitrofleisch",
          "verwenden",
          "ökologisch",
          "künstlich",
          "bund",
          "investor",
          "wasser",
          "gen",
          "soja",
          "risiko",
          "ähnlich",
          "idee",
          "15",
          "glauben",
          "fallen",
          "nahrungsmittel",
          "handeln",
          "lösung",
          "knapp",
          "kind",
          "ernähren",
          "international",
          "bieten",
          "genetisch",
          "rindfleisch",
          "leute",
          "vergangen",
          "echt",
          "investieren",
          "forschung",
          "eher",
          "sogenannter",
          "möchten",
          "stammen",
          "konzern",
          "mosa",
          "verschieden",
          "früh",
          "migro",
          "aleph",
          "10",
          "gewinnen",
          "1",
          "politisch",
          "hersteller",
          "nachfrage",
          "wirtschaft",
          "spät",
          "100",
          "monat",
          "neuartig",
          "meister",
          "direkt",
          "konventionell",
          "gemeinsam",
          "mais",
          "vegetarisch",
          "legen",
          "seite",
          "bislang",
          "bundesrat",
          "entscheiden",
          "zutat",
          "2021",
          "chance",
          "politik",
          "helfen",
          "gesund",
          "kennzeichnung",
          "rind",
          "genmanipuliert",
          "branche",
          "zulassung",
          "gesetz",
          "folge",
          "beispielsweise",
          "denken",
          "ergebnis",
          "foto",
          "50",
          "eigentlich",
          "kuh",
          "teuer",
          "frei",
          "menge",
          "zulassen",
          "brüssel",
          "2018",
          "universität",
          "regel",
          "farms",
          "beginnen",
          "verbieten",
          "gleichzeitig",
          "zahl",
          "spielen",
          "25",
          "steak",
          "mark",
          "staat",
          "wissenschaftlich",
          "industrie",
          "inzwischen",
          "entsprechend",
          "laufen",
          "experte",
          "fisch",
          "natur",
          "verfahren",
          "angabe",
          "ändern",
          "bestimmt",
          "aktuell",
          "restaurant",
          "mehrere",
          "tatsächlich",
          "regierung",
          "überzeugen",
          "vorteil",
          "niederländisch",
          "--",
          "einzig",
          "herkömmlich",
          "familie",
          "spd",
          "gesundheit",
          "einsatz",
          "innovation",
          "deutsche",
          "handel",
          "schwer",
          "fleischkonsum",
          "kennen",
          "erwarten",
          "kennzeichnen",
          "weiterhin",
          "öffentlich",
          "institut",
          "supermarkt",
          "bühler",
          "verzichten",
          "wissenschaftler",
          "umsatz",
          "wert",
          "beyond",
          "projekt",
          "lässen",
          "geschäft",
          "trend",
          "18",
          "sozial",
          "tragen",
          "möglichkeit",
          "folgen",
          "sicht",
          "versuchen",
          "tonne",
          "reduzieren",
          "40",
          "teilen",
          "schwein",
          "fest",
          "fleischersatzprodukt",
          "coop",
          "planted",
          "abkommen",
          "schritt",
          "stecken",
          "käse",
          "sorgen",
          "positiv",
          "normal",
          "2",
          "einzeln",
          "information",
          "2020",
          "mittlerweile",
          "feld",
          "fragen",
          "erlauben",
          "grundsätzlich",
          "schließlich",
          "beteiligen",
          "trotz",
          "zählen",
          "vergleich",
          "zeitung",
          "alternativ",
          "völlig",
          "haus",
          "april",
          "nahrung",
          "eukommission",
          "arbeit",
          "bevölkerung",
          "monsanto",
          "kilogramm",
          "benötigen",
          "bayer",
          "bedeuten",
          "treffen",
          "ziehen",
          "veröffentlichen",
          "the",
          "insgesamt",
          "anbauen",
          "kommission",
          "anteil",
          "bauen",
          "startups",
          "zürich",
          "amerikanisch",
          "ebenfalls",
          "gründen",
          "futter",
          "lehnen",
          "genmais",
          "jährlich",
          "rolle",
          "industriell",
          "nötig",
          "stammzelle",
          "foods",
          "kommend",
          "futtermittel",
          "unterstützen",
          "gelingen",
          "klimawandel",
          "new",
          "union",
          "anbieten",
          "rechnen",
          "3",
          "verkauf",
          "januar",
          "sonntag",
          "name",
          "verstehen",
          "gesellschaft",
          "fleischersatz",
          "fehlen",
          "gespräch",
          "post",
          "buch",
          "erkennen",
          "scheinen",
          "planen",
          "juli",
          "erfolg",
          "interesse",
          "funktionieren",
          "fortschritt",
          "kürzlich",
          "wachsend",
          "gesamt",
          "veganer",
          "basis",
          "küche",
          "parlament",
          "angst",
          "erzählen",
          "genverändert",
          "organismus",
          "partei",
          "bio",
          "gruppe",
          "versprechen",
          "platz",
          "behörde",
          "gericht",
          "entscheidung",
          "singapur",
          "frankreich",
          "gering",
          "dennoch",
          "weise",
          "kopf",
          "bevor",
          "bürger",
          "mitarbeiter",
          "erzeugen",
          "original",
          "verlieren",
          "saatgut",
          "methode",
          "liefern",
          "massentierhaltung",
          "lösen",
          "betonen",
          "verarbeiten",
          "blick",
          "gefahr",
          "menschlich",
          "angesichts",
          "dienstag",
          "erstmals",
          "suchen",
          "erbgut",
          "verbot",
          "hunger",
          "herausforderung",
          "einsetzen",
          "bild",
          "israel",
          "ort",
          "beschäftigen",
          "hierzulande",
          "traditionell",
          "mai",
          "paar",
          "gewinn",
          "14",
          "larve",
          "grill",
          "längst",
          "wachstum",
          "zumindest"
         ],
         "type": "scatter",
         "x": [
          9.010771751403809,
          -21.553306579589844,
          8.558820724487305,
          15.805644035339355,
          2.9639201164245605,
          -16.225250244140625,
          20.23147201538086,
          -19.172101974487305,
          -18.13783836364746,
          12.058635711669922,
          9.010870933532715,
          7.279818058013916,
          8.982248306274414,
          11.371806144714355,
          12.055608749389648,
          -1.656531572341919,
          21.449186325073242,
          12.62838363647461,
          -18.3280029296875,
          21.512893676757812,
          14.680035591125488,
          -17.875825881958008,
          -7.455051898956299,
          9.918898582458496,
          0.9688165783882141,
          13.509174346923828,
          19.41261100769043,
          6.4016265869140625,
          2.83217453956604,
          -0.4756976366043091,
          16.195568084716797,
          17.664934158325195,
          16.321605682373047,
          -17.103910446166992,
          6.051079273223877,
          -21.9420108795166,
          20.199724197387695,
          -19.57631492614746,
          -6.331177711486816,
          2.2073276042938232,
          1.0941511392593384,
          7.8928022384643555,
          -18.967361450195312,
          -11.389897346496582,
          -15.39831256866455,
          -11.714386940002441,
          14.909358978271484,
          9.83827018737793,
          -18.687885284423828,
          1.1886870861053467,
          7.747308254241943,
          2.3833656311035156,
          14.752689361572266,
          -13.237079620361328,
          9.43176555633545,
          -3.809810161590576,
          12.444674491882324,
          -21.247962951660156,
          -19.955364227294922,
          -18.891691207885742,
          6.543997764587402,
          -14.243072509765625,
          11.100595474243164,
          -11.950629234313965,
          -19.855701446533203,
          -5.353421688079834,
          -5.866192817687988,
          -13.87758731842041,
          -6.448896884918213,
          8.814386367797852,
          -7.647436618804932,
          -1.7451146841049194,
          4.733104705810547,
          -13.88741683959961,
          -20.5218505859375,
          -17.117446899414062,
          -5.226864814758301,
          -20.93100357055664,
          -11.608831405639648,
          -7.802841663360596,
          2.2555506229400635,
          -13.281649589538574,
          -13.25358772277832,
          8.855777740478516,
          -10.419648170471191,
          -17.543243408203125,
          13.242919921875,
          0.258379727602005,
          1.328097939491272,
          -9.916543006896973,
          -17.853656768798828,
          -17.09763526916504,
          2.8563036918640137,
          -3.2114360332489014,
          -16.845714569091797,
          10.122427940368652,
          -11.348773956298828,
          -17.518211364746094,
          14.869051933288574,
          -0.464197039604187,
          8.536108016967773,
          -19.94568634033203,
          13.60855770111084,
          0.7297865748405457,
          16.947134017944336,
          11.339203834533691,
          -20.983444213867188,
          -10.789546966552734,
          9.536149978637695,
          9.293408393859863,
          -15.36080551147461,
          4.922348499298096,
          -17.128501892089844,
          -4.246359348297119,
          4.246607303619385,
          -5.201774597167969,
          -9.791570663452148,
          -3.0092527866363525,
          1.089314341545105,
          -21.450407028198242,
          -7.774689197540283,
          -16.443010330200195,
          -11.897576332092285,
          18.90293312072754,
          -3.365689992904663,
          -3.4895148277282715,
          9.450325965881348,
          -11.969134330749512,
          -2.986250877380371,
          -14.548426628112793,
          15.560772895812988,
          -2.8751986026763916,
          -4.754207134246826,
          -3.8079957962036133,
          -16.746109008789062,
          -12.073324203491211,
          -17.456480026245117,
          8.271195411682129,
          8.751263618469238,
          3.986750602722168,
          10.192638397216797,
          -0.8930080533027649,
          12.575491905212402,
          14.425065040588379,
          -19.972139358520508,
          2.983304738998413,
          11.843918800354004,
          -15.85562801361084,
          15.275588035583496,
          -9.14707088470459,
          1.6004060506820679,
          -4.138143539428711,
          -15.885737419128418,
          -16.02338409423828,
          -18.05891990661621,
          0.4816375970840454,
          11.058094024658203,
          -16.488994598388672,
          6.241522789001465,
          -13.328639030456543,
          -6.757237434387207,
          12.691682815551758,
          14.86255168914795,
          13.403623580932617,
          5.671078205108643,
          -6.566657066345215,
          -10.870061874389648,
          8.43966007232666,
          0.6436159610748291,
          14.464781761169434,
          0.010495844297111034,
          -5.169504642486572,
          -16.350177764892578,
          1.532827377319336,
          3.016409158706665,
          0.496778666973114,
          -5.701460361480713,
          16.93671989440918,
          -20.19107437133789,
          3.9573986530303955,
          -12.42447566986084,
          -17.173446655273438,
          -12.969487190246582,
          -3.622708797454834,
          6.238178730010986,
          -13.459370613098145,
          8.072975158691406,
          5.335712909698486,
          0.2532690763473511,
          -21.843168258666992,
          -9.708732604980469,
          -4.640515327453613,
          -15.634005546569824,
          -16.33075714111328,
          -16.284500122070312,
          -4.391124248504639,
          -9.750415802001953,
          4.323277473449707,
          4.668806552886963,
          -9.674639701843262,
          4.093323230743408,
          -5.338681697845459,
          -9.13454532623291,
          -10.318337440490723,
          13.258183479309082,
          7.257343769073486,
          -4.974210739135742,
          13.877397537231445,
          -2.8020668029785156,
          18.817588806152344,
          1.2221511602401733,
          -6.188998699188232,
          9.78765869140625,
          0.9452475905418396,
          14.893630981445312,
          14.646828651428223,
          14.738605499267578,
          -16.476585388183594,
          9.877248764038086,
          7.696596622467041,
          5.767340660095215,
          5.5821213722229,
          17.3709716796875,
          -13.469406127929688,
          16.4735050201416,
          -3.570458173751831,
          13.961447715759277,
          8.084123611450195,
          0.06818921864032745,
          11.435920715332031,
          -0.6968606114387512,
          -7.848233222961426,
          -2.656358242034912,
          -8.023892402648926,
          7.448265075683594,
          -2.1625285148620605,
          -6.078298568725586,
          10.127096176147461,
          -8.178483963012695,
          12.977649688720703,
          14.323805809020996,
          -17.417984008789062,
          -5.753111839294434,
          10.422351837158203,
          -16.02353286743164,
          0.07657940685749054,
          15.170026779174805,
          -9.342503547668457,
          -11.849867820739746,
          -7.032783031463623,
          -16.157014846801758,
          -16.427820205688477,
          -4.145516395568848,
          7.804227828979492,
          -0.24068374931812286,
          6.5030927658081055,
          -6.984017848968506,
          12.974573135375977,
          0.7626065015792847,
          3.312514305114746,
          -15.10206413269043,
          3.88759183883667,
          14.241541862487793,
          -7.671770095825195,
          7.828515529632568,
          5.899135112762451,
          3.561880350112915,
          -7.547599792480469,
          0.38815873861312866,
          3.1942527294158936,
          7.548819541931152,
          -6.183937072753906,
          8.280319213867188,
          -20.61458396911621,
          5.330183982849121,
          7.953953742980957,
          2.9511847496032715,
          -8.917434692382812,
          6.819879055023193,
          7.724411964416504,
          11.844422340393066,
          -7.468667507171631,
          9.77316951751709,
          8.021288871765137,
          -3.1860265731811523,
          -9.83320426940918,
          6.840798377990723,
          -6.812108993530273,
          17.7522029876709,
          -2.261981248855591,
          3.7410426139831543,
          -7.935335159301758,
          2.1420273780822754,
          -8.86801815032959,
          5.9389262199401855,
          1.3204044103622437,
          -11.60866641998291,
          -7.944572925567627,
          -1.8133107423782349,
          -0.6690142154693604,
          4.0766215324401855,
          -4.677416801452637,
          -10.038796424865723,
          -8.872386932373047,
          3.2906198501586914,
          4.744323253631592,
          3.7408292293548584,
          -3.9808645248413086,
          6.477205276489258,
          -1.083282232284546,
          -12.732137680053711,
          -8.25049877166748,
          -6.781802654266357,
          -4.96367883682251,
          -1.5120751857757568,
          6.1097822189331055,
          -5.376665115356445,
          -18.221786499023438,
          -9.847640037536621,
          11.663763046264648,
          1.1953930854797363,
          1.9383764266967773,
          5.314047336578369,
          9.28740406036377,
          -3.117809772491455,
          8.589534759521484,
          -12.258676528930664,
          8.625455856323242,
          -1.0106257200241089,
          -10.963485717773438,
          -11.838741302490234,
          7.847012996673584,
          6.033376693725586,
          14.346714973449707,
          13.348602294921875,
          2.1700315475463867,
          -18.294469833374023,
          1.258714199066162,
          -3.3057148456573486,
          -10.431127548217773,
          12.08240032196045,
          -10.005785942077637,
          4.324612140655518,
          2.516730546951294,
          9.77299690246582,
          7.311373233795166,
          8.245769500732422,
          -1.1692399978637695,
          12.957832336425781,
          14.358133316040039,
          -8.844599723815918,
          -3.5528368949890137,
          10.12000560760498,
          1.8731303215026855,
          5.2214460372924805,
          3.6876556873321533,
          -9.762489318847656,
          -13.029234886169434,
          -7.34039306640625,
          14.746984481811523,
          6.258126258850098,
          -6.744137287139893,
          -4.489034652709961,
          -0.8917315006256104,
          7.333521366119385,
          4.9976654052734375,
          -6.401413440704346,
          -12.548494338989258,
          6.148694038391113,
          13.454598426818848,
          7.456665992736816,
          -10.027592658996582,
          -0.02177274413406849,
          0.774205207824707,
          9.489908218383789,
          -4.361113548278809,
          -9.680098533630371,
          -0.06448483467102051,
          13.849942207336426,
          -9.07447624206543,
          -4.185694217681885,
          6.29375696182251,
          -3.2143657207489014,
          13.04317855834961,
          5.007900714874268,
          -11.820984840393066,
          -7.58195686340332,
          8.560598373413086,
          -5.427557468414307,
          -5.288090705871582,
          -1.5714374780654907,
          9.418764114379883,
          0.5767958164215088,
          -6.826688766479492,
          6.748281478881836,
          -1.2421737909317017,
          -8.42921257019043,
          -1.7997393608093262,
          9.34863567352295,
          3.704549789428711,
          7.469438076019287,
          -6.479017734527588,
          -0.01072417851537466,
          5.11579704284668,
          7.615346431732178,
          2.841496467590332,
          -5.049749374389648,
          4.418593883514404,
          -0.17794734239578247,
          2.7616631984710693,
          1.8691060543060303,
          3.8993449211120605,
          7.408060550689697,
          11.115447998046875,
          2.2375476360321045,
          13.846063613891602,
          16.86789321899414,
          12.754698753356934,
          8.532336235046387,
          -3.5740857124328613,
          5.510751724243164,
          5.7317023277282715,
          9.517176628112793,
          5.8060688972473145,
          0.22369246184825897,
          -7.371639728546143,
          4.359095573425293,
          8.201399803161621,
          -2.695535898208618,
          7.419408798217773,
          4.467055797576904,
          1.6816644668579102,
          6.7083821296691895,
          -3.8136026859283447,
          3.816617965698242,
          -0.525667667388916,
          6.711205959320068,
          14.34349250793457,
          8.219287872314453,
          5.177059650421143,
          6.234628200531006,
          5.5685882568359375,
          4.137729167938232,
          6.650862693786621,
          2.577901840209961,
          11.61534309387207,
          4.577601432800293,
          7.774598598480225,
          7.1172285079956055,
          5.473760604858398,
          1.4244502782821655,
          12.746212005615234,
          10.14592170715332,
          1.2698332071304321,
          5.129176139831543,
          8.209909439086914,
          3.2910327911376953,
          0.1687791347503662,
          1.907166838645935,
          6.949504375457764,
          8.827371597290039,
          3.4111130237579346,
          -0.6420388221740723,
          2.568326473236084,
          -6.219165325164795,
          -6.746456623077393,
          8.169109344482422,
          8.655210494995117,
          5.029214382171631,
          -5.905222415924072,
          7.882160186767578
         ],
         "y": [
          -0.43408292531967163,
          8.270875930786133,
          6.584219932556152,
          -2.9205331802368164,
          8.899238586425781,
          -9.264185905456543,
          11.304717063903809,
          1.7198572158813477,
          -10.954333305358887,
          5.077615737915039,
          11.734277725219727,
          6.982610702514648,
          -1.1647135019302368,
          -1.5962036848068237,
          -1.710115671157837,
          8.05184268951416,
          10.604077339172363,
          -1.6779823303222656,
          -11.310135841369629,
          10.545703887939453,
          15.16234302520752,
          -11.430974006652832,
          -4.099091053009033,
          3.2450568675994873,
          7.43425989151001,
          3.7180726528167725,
          11.221755027770996,
          8.866939544677734,
          3.074101448059082,
          10.391968727111816,
          14.777806282043457,
          11.8569917678833,
          14.555850982666016,
          10.293161392211914,
          5.523823261260986,
          2.4030513763427734,
          10.710748672485352,
          8.302724838256836,
          0.4565127491950989,
          12.369815826416016,
          10.637823104858398,
          11.893798828125,
          7.243072986602783,
          -7.013219833374023,
          0.3866203725337982,
          -5.382501602172852,
          12.172853469848633,
          6.082045078277588,
          8.787740707397461,
          12.785188674926758,
          -11.095526695251465,
          13.578744888305664,
          14.824695587158203,
          -0.2889205515384674,
          9.6433744430542,
          0.5599212050437927,
          6.328924179077148,
          4.252782821655273,
          2.591096878051758,
          6.333775520324707,
          -1.6817688941955566,
          9.289594650268555,
          6.516436576843262,
          -8.249597549438477,
          6.618729114532471,
          10.254612922668457,
          9.023783683776855,
          2.825457811355591,
          13.459272384643555,
          7.209319114685059,
          -5.777080535888672,
          6.447319984436035,
          17.003305435180664,
          5.0855326652526855,
          7.6525654792785645,
          -2.8993446826934814,
          2.1342225074768066,
          5.53061056137085,
          6.686925411224365,
          8.425289154052734,
          14.614616394042969,
          5.351890563964844,
          4.542379856109619,
          0.38137194514274597,
          8.412683486938477,
          -11.388223648071289,
          10.625664710998535,
          1.7619175910949707,
          13.706253051757812,
          4.058537483215332,
          -5.524651527404785,
          -0.20191112160682678,
          8.66114616394043,
          -0.355006605386734,
          -7.289841651916504,
          7.559052467346191,
          4.218216419219971,
          -2.8792896270751953,
          -2.7344889640808105,
          13.86547565460205,
          12.720894813537598,
          5.629676342010498,
          -3.7467544078826904,
          4.7548627853393555,
          13.732939720153809,
          13.375149726867676,
          7.318772315979004,
          -6.0131025314331055,
          8.872885704040527,
          15.663183212280273,
          -7.583137512207031,
          -6.86639404296875,
          -7.977409362792969,
          15.412800788879395,
          -6.015836238861084,
          -7.94719123840332,
          -8.112496376037598,
          13.053752899169922,
          11.395174980163574,
          1.7023686170578003,
          13.68620491027832,
          -6.041764259338379,
          2.7895567417144775,
          11.096162796020508,
          4.82167387008667,
          9.168876647949219,
          -5.123680114746094,
          6.450407981872559,
          12.806965827941895,
          -1.0323293209075928,
          15.70119857788086,
          -0.8242638111114502,
          14.34100341796875,
          5.578335762023926,
          8.164772987365723,
          1.3476660251617432,
          -10.694737434387207,
          14.931302070617676,
          -5.958451271057129,
          16.250829696655273,
          15.340526580810547,
          12.200143814086914,
          12.421757698059082,
          6.15625,
          7.414570331573486,
          6.685667514801025,
          10.740850448608398,
          9.292251586914062,
          -9.05685806274414,
          15.907795906066895,
          15.956618309020996,
          -6.524242877960205,
          8.124797821044922,
          -4.359570503234863,
          8.09930419921875,
          16.214797973632812,
          -5.865875720977783,
          8.578180313110352,
          15.692748069763184,
          -9.016420364379883,
          10.62397289276123,
          8.523810386657715,
          -4.506905555725098,
          11.225028038024902,
          -5.148038387298584,
          3.990636110305786,
          -11.896745681762695,
          -3.7250750064849854,
          0.10078874230384827,
          -6.35974645614624,
          5.860762596130371,
          8.336484909057617,
          -7.133963108062744,
          -2.96224045753479,
          -16.66131591796875,
          8.143957138061523,
          11.19672966003418,
          11.65100383758545,
          4.11077356338501,
          6.858933925628662,
          -1.459962010383606,
          8.655742645263672,
          -9.904301643371582,
          10.311999320983887,
          -12.879976272583008,
          9.08647346496582,
          -4.915579319000244,
          -9.418644905090332,
          8.53137493133545,
          3.131542205810547,
          7.554968357086182,
          7.119295120239258,
          1.7026808261871338,
          4.274009704589844,
          -7.481707572937012,
          11.011211395263672,
          14.741762161254883,
          14.116050720214844,
          -8.767311096191406,
          1.6767618656158447,
          15.91393756866455,
          13.037142753601074,
          -11.645774841308594,
          -7.515562057495117,
          -18.828813552856445,
          -17.154457092285156,
          -1.8286017179489136,
          -5.719222545623779,
          9.33879280090332,
          10.592613220214844,
          -18.98623275756836,
          14.306482315063477,
          5.081920146942139,
          15.816247940063477,
          4.4699578285217285,
          7.815467357635498,
          -4.539109230041504,
          -0.49803751707077026,
          9.918072700500488,
          8.16531753540039,
          -11.890453338623047,
          -3.375863552093506,
          -9.364113807678223,
          9.860855102539062,
          -8.877620697021484,
          -12.469756126403809,
          10.380253791809082,
          16.20636558532715,
          13.616032600402832,
          -8.5792875289917,
          3.723214626312256,
          16.635154724121094,
          13.65183162689209,
          -11.61939811706543,
          -2.920562744140625,
          -0.7776975631713867,
          -11.586922645568848,
          5.3571882247924805,
          12.995885848999023,
          -18.931133270263672,
          5.510275363922119,
          -0.7023695111274719,
          -0.626893937587738,
          13.73005485534668,
          5.063251495361328,
          -4.192482948303223,
          11.546080589294434,
          8.001729965209961,
          -3.7299985885620117,
          7.68053674697876,
          -3.910097122192383,
          6.025383472442627,
          -16.484296798706055,
          10.108128547668457,
          16.359933853149414,
          1.2215449810028076,
          5.48187255859375,
          -7.863978385925293,
          -2.312190532684326,
          -8.819713592529297,
          9.029296875,
          1.1198705434799194,
          -7.645374774932861,
          -9.191459655761719,
          4.708553314208984,
          4.093379497528076,
          -6.211536407470703,
          0.7363535761833191,
          -5.478774547576904,
          -8.253188133239746,
          3.5320067405700684,
          -1.1879864931106567,
          -9.10619068145752,
          2.7276599407196045,
          -14.204269409179688,
          -7.9517364501953125,
          -19.66086769104004,
          15.189587593078613,
          14.13405990600586,
          2.036990165710449,
          11.81197738647461,
          2.5699143409729004,
          -10.151589393615723,
          9.35671615600586,
          6.436166763305664,
          6.579229354858398,
          -6.223026275634766,
          -11.091962814331055,
          11.21924114227295,
          5.242374420166016,
          14.372286796569824,
          9.4694242477417,
          4.228458881378174,
          16.572784423828125,
          -7.829835414886475,
          3.4545469284057617,
          -11.957620620727539,
          -10.529242515563965,
          -18.511070251464844,
          -6.59153938293457,
          -0.5264266729354858,
          -12.464223861694336,
          5.28103494644165,
          -10.298105239868164,
          0.5201971530914307,
          -1.3733835220336914,
          -1.146196961402893,
          -6.189833164215088,
          1.5298831462860107,
          4.653489112854004,
          -4.620189189910889,
          5.897039413452148,
          -12.737263679504395,
          -14.898366928100586,
          0.36000916361808777,
          -20.156156539916992,
          -3.1402769088745117,
          0.29280802607536316,
          -1.1201847791671753,
          -20.538135528564453,
          3.17095685005188,
          -13.124658584594727,
          -22.617525100708008,
          -18.27008056640625,
          3.893669605255127,
          -7.095548152923584,
          -8.762079238891602,
          -16.75802230834961,
          14.90643310546875,
          -8.40665054321289,
          -0.8288037180900574,
          16.409902572631836,
          -18.012248992919922,
          -8.752208709716797,
          -7.957470893859863,
          1.8063691854476929,
          1.6048533916473389,
          -8.991470336914062,
          -7.414035797119141,
          -6.45484733581543,
          -11.259794235229492,
          2.189436435699463,
          3.6675302982330322,
          -12.354734420776367,
          -20.683143615722656,
          -18.096036911010742,
          10.10328197479248,
          4.147260665893555,
          -8.45054817199707,
          1.8768240213394165,
          3.710257053375244,
          -3.431749105453491,
          -21.79276466369629,
          -0.6560925245285034,
          0.005685308016836643,
          -13.017082214355469,
          10.433987617492676,
          -1.0139163732528687,
          -12.161850929260254,
          10.744562149047852,
          16.451309204101562,
          -6.9577250480651855,
          4.5799150466918945,
          -18.087345123291016,
          -22.992347717285156,
          1.808806300163269,
          -5.839722156524658,
          2.6563994884490967,
          -10.45376205444336,
          10.037282943725586,
          18.184499740600586,
          -12.35299015045166,
          -8.061422348022461,
          -14.692955017089844,
          -12.565467834472656,
          -2.299410343170166,
          -1.495111346244812,
          -11.40800666809082,
          -19.307600021362305,
          6.636972427368164,
          3.062623977661133,
          -19.400169372558594,
          -14.17140007019043,
          5.029223442077637,
          -20.566896438598633,
          -4.094921588897705,
          -10.788053512573242,
          -21.771953582763672,
          5.427979469299316,
          14.939263343811035,
          -5.572059154510498,
          -8.578564643859863,
          -3.721856117248535,
          -1.7473649978637695,
          -14.453791618347168,
          2.3289241790771484,
          -2.225656270980835,
          11.267459869384766,
          -7.377594470977783,
          -2.0643889904022217,
          -22.181137084960938,
          -9.7059965133667,
          -4.59106969833374,
          2.960498332977295,
          -9.834665298461914,
          -4.788305759429932,
          6.231803894042969,
          -18.87225914001465,
          -11.699936866760254,
          -16.17095375061035,
          -19.35114860534668,
          -2.9498915672302246,
          13.066758155822754,
          -19.450687408447266,
          0.9180383682250977,
          12.111784934997559,
          -9.428559303283691,
          4.33514404296875,
          -19.769287109375,
          7.137758255004883,
          -15.299824714660645,
          -19.945295333862305,
          -17.804819107055664,
          -15.439133644104004,
          12.584329605102539,
          -0.45269182324409485,
          -12.504785537719727,
          -19.06513023376465,
          10.727766036987305,
          -4.415274143218994,
          -15.148618698120117,
          -10.953424453735352,
          0.029390636831521988,
          -14.689342498779297,
          -20.136547088623047,
          -13.986574172973633,
          -13.619020462036133,
          2.094257116317749,
          -13.411401748657227,
          -19.015413284301758,
          -21.62141990661621,
          -16.83949089050293,
          -10.580225944519043,
          -18.30027198791504,
          -9.444771766662598,
          -19.091487884521484,
          -9.789244651794434,
          -19.457895278930664,
          -23.871936798095703,
          2.601773977279663,
          -5.4008636474609375,
          8.763660430908203,
          -11.526371002197266,
          -7.229907512664795,
          -18.628265380859375,
          -18.269933700561523,
          -13.148152351379395,
          -15.972162246704102,
          -6.811946868896484,
          -20.42183494567871,
          -23.440401077270508,
          -10.022780418395996,
          -12.356610298156738,
          -8.069957733154297,
          -15.124688148498535,
          -14.589188575744629,
          -17.28668785095215,
          -23.93689727783203,
          -8.213062286376953,
          -12.737619400024414,
          -21.300886154174805
         ]
        }
       ],
       "layout": {
        "template": {
         "data": {
          "bar": [
           {
            "error_x": {
             "color": "#2a3f5f"
            },
            "error_y": {
             "color": "#2a3f5f"
            },
            "marker": {
             "line": {
              "color": "#E5ECF6",
              "width": 0.5
             },
             "pattern": {
              "fillmode": "overlay",
              "size": 10,
              "solidity": 0.2
             }
            },
            "type": "bar"
           }
          ],
          "barpolar": [
           {
            "marker": {
             "line": {
              "color": "#E5ECF6",
              "width": 0.5
             },
             "pattern": {
              "fillmode": "overlay",
              "size": 10,
              "solidity": 0.2
             }
            },
            "type": "barpolar"
           }
          ],
          "carpet": [
           {
            "aaxis": {
             "endlinecolor": "#2a3f5f",
             "gridcolor": "white",
             "linecolor": "white",
             "minorgridcolor": "white",
             "startlinecolor": "#2a3f5f"
            },
            "baxis": {
             "endlinecolor": "#2a3f5f",
             "gridcolor": "white",
             "linecolor": "white",
             "minorgridcolor": "white",
             "startlinecolor": "#2a3f5f"
            },
            "type": "carpet"
           }
          ],
          "choropleth": [
           {
            "colorbar": {
             "outlinewidth": 0,
             "ticks": ""
            },
            "type": "choropleth"
           }
          ],
          "contour": [
           {
            "colorbar": {
             "outlinewidth": 0,
             "ticks": ""
            },
            "colorscale": [
             [
              0,
              "#0d0887"
             ],
             [
              0.1111111111111111,
              "#46039f"
             ],
             [
              0.2222222222222222,
              "#7201a8"
             ],
             [
              0.3333333333333333,
              "#9c179e"
             ],
             [
              0.4444444444444444,
              "#bd3786"
             ],
             [
              0.5555555555555556,
              "#d8576b"
             ],
             [
              0.6666666666666666,
              "#ed7953"
             ],
             [
              0.7777777777777778,
              "#fb9f3a"
             ],
             [
              0.8888888888888888,
              "#fdca26"
             ],
             [
              1,
              "#f0f921"
             ]
            ],
            "type": "contour"
           }
          ],
          "contourcarpet": [
           {
            "colorbar": {
             "outlinewidth": 0,
             "ticks": ""
            },
            "type": "contourcarpet"
           }
          ],
          "heatmap": [
           {
            "colorbar": {
             "outlinewidth": 0,
             "ticks": ""
            },
            "colorscale": [
             [
              0,
              "#0d0887"
             ],
             [
              0.1111111111111111,
              "#46039f"
             ],
             [
              0.2222222222222222,
              "#7201a8"
             ],
             [
              0.3333333333333333,
              "#9c179e"
             ],
             [
              0.4444444444444444,
              "#bd3786"
             ],
             [
              0.5555555555555556,
              "#d8576b"
             ],
             [
              0.6666666666666666,
              "#ed7953"
             ],
             [
              0.7777777777777778,
              "#fb9f3a"
             ],
             [
              0.8888888888888888,
              "#fdca26"
             ],
             [
              1,
              "#f0f921"
             ]
            ],
            "type": "heatmap"
           }
          ],
          "heatmapgl": [
           {
            "colorbar": {
             "outlinewidth": 0,
             "ticks": ""
            },
            "colorscale": [
             [
              0,
              "#0d0887"
             ],
             [
              0.1111111111111111,
              "#46039f"
             ],
             [
              0.2222222222222222,
              "#7201a8"
             ],
             [
              0.3333333333333333,
              "#9c179e"
             ],
             [
              0.4444444444444444,
              "#bd3786"
             ],
             [
              0.5555555555555556,
              "#d8576b"
             ],
             [
              0.6666666666666666,
              "#ed7953"
             ],
             [
              0.7777777777777778,
              "#fb9f3a"
             ],
             [
              0.8888888888888888,
              "#fdca26"
             ],
             [
              1,
              "#f0f921"
             ]
            ],
            "type": "heatmapgl"
           }
          ],
          "histogram": [
           {
            "marker": {
             "pattern": {
              "fillmode": "overlay",
              "size": 10,
              "solidity": 0.2
             }
            },
            "type": "histogram"
           }
          ],
          "histogram2d": [
           {
            "colorbar": {
             "outlinewidth": 0,
             "ticks": ""
            },
            "colorscale": [
             [
              0,
              "#0d0887"
             ],
             [
              0.1111111111111111,
              "#46039f"
             ],
             [
              0.2222222222222222,
              "#7201a8"
             ],
             [
              0.3333333333333333,
              "#9c179e"
             ],
             [
              0.4444444444444444,
              "#bd3786"
             ],
             [
              0.5555555555555556,
              "#d8576b"
             ],
             [
              0.6666666666666666,
              "#ed7953"
             ],
             [
              0.7777777777777778,
              "#fb9f3a"
             ],
             [
              0.8888888888888888,
              "#fdca26"
             ],
             [
              1,
              "#f0f921"
             ]
            ],
            "type": "histogram2d"
           }
          ],
          "histogram2dcontour": [
           {
            "colorbar": {
             "outlinewidth": 0,
             "ticks": ""
            },
            "colorscale": [
             [
              0,
              "#0d0887"
             ],
             [
              0.1111111111111111,
              "#46039f"
             ],
             [
              0.2222222222222222,
              "#7201a8"
             ],
             [
              0.3333333333333333,
              "#9c179e"
             ],
             [
              0.4444444444444444,
              "#bd3786"
             ],
             [
              0.5555555555555556,
              "#d8576b"
             ],
             [
              0.6666666666666666,
              "#ed7953"
             ],
             [
              0.7777777777777778,
              "#fb9f3a"
             ],
             [
              0.8888888888888888,
              "#fdca26"
             ],
             [
              1,
              "#f0f921"
             ]
            ],
            "type": "histogram2dcontour"
           }
          ],
          "mesh3d": [
           {
            "colorbar": {
             "outlinewidth": 0,
             "ticks": ""
            },
            "type": "mesh3d"
           }
          ],
          "parcoords": [
           {
            "line": {
             "colorbar": {
              "outlinewidth": 0,
              "ticks": ""
             }
            },
            "type": "parcoords"
           }
          ],
          "pie": [
           {
            "automargin": true,
            "type": "pie"
           }
          ],
          "scatter": [
           {
            "fillpattern": {
             "fillmode": "overlay",
             "size": 10,
             "solidity": 0.2
            },
            "type": "scatter"
           }
          ],
          "scatter3d": [
           {
            "line": {
             "colorbar": {
              "outlinewidth": 0,
              "ticks": ""
             }
            },
            "marker": {
             "colorbar": {
              "outlinewidth": 0,
              "ticks": ""
             }
            },
            "type": "scatter3d"
           }
          ],
          "scattercarpet": [
           {
            "marker": {
             "colorbar": {
              "outlinewidth": 0,
              "ticks": ""
             }
            },
            "type": "scattercarpet"
           }
          ],
          "scattergeo": [
           {
            "marker": {
             "colorbar": {
              "outlinewidth": 0,
              "ticks": ""
             }
            },
            "type": "scattergeo"
           }
          ],
          "scattergl": [
           {
            "marker": {
             "colorbar": {
              "outlinewidth": 0,
              "ticks": ""
             }
            },
            "type": "scattergl"
           }
          ],
          "scattermapbox": [
           {
            "marker": {
             "colorbar": {
              "outlinewidth": 0,
              "ticks": ""
             }
            },
            "type": "scattermapbox"
           }
          ],
          "scatterpolar": [
           {
            "marker": {
             "colorbar": {
              "outlinewidth": 0,
              "ticks": ""
             }
            },
            "type": "scatterpolar"
           }
          ],
          "scatterpolargl": [
           {
            "marker": {
             "colorbar": {
              "outlinewidth": 0,
              "ticks": ""
             }
            },
            "type": "scatterpolargl"
           }
          ],
          "scatterternary": [
           {
            "marker": {
             "colorbar": {
              "outlinewidth": 0,
              "ticks": ""
             }
            },
            "type": "scatterternary"
           }
          ],
          "surface": [
           {
            "colorbar": {
             "outlinewidth": 0,
             "ticks": ""
            },
            "colorscale": [
             [
              0,
              "#0d0887"
             ],
             [
              0.1111111111111111,
              "#46039f"
             ],
             [
              0.2222222222222222,
              "#7201a8"
             ],
             [
              0.3333333333333333,
              "#9c179e"
             ],
             [
              0.4444444444444444,
              "#bd3786"
             ],
             [
              0.5555555555555556,
              "#d8576b"
             ],
             [
              0.6666666666666666,
              "#ed7953"
             ],
             [
              0.7777777777777778,
              "#fb9f3a"
             ],
             [
              0.8888888888888888,
              "#fdca26"
             ],
             [
              1,
              "#f0f921"
             ]
            ],
            "type": "surface"
           }
          ],
          "table": [
           {
            "cells": {
             "fill": {
              "color": "#EBF0F8"
             },
             "line": {
              "color": "white"
             }
            },
            "header": {
             "fill": {
              "color": "#C8D4E3"
             },
             "line": {
              "color": "white"
             }
            },
            "type": "table"
           }
          ]
         },
         "layout": {
          "annotationdefaults": {
           "arrowcolor": "#2a3f5f",
           "arrowhead": 0,
           "arrowwidth": 1
          },
          "autotypenumbers": "strict",
          "coloraxis": {
           "colorbar": {
            "outlinewidth": 0,
            "ticks": ""
           }
          },
          "colorscale": {
           "diverging": [
            [
             0,
             "#8e0152"
            ],
            [
             0.1,
             "#c51b7d"
            ],
            [
             0.2,
             "#de77ae"
            ],
            [
             0.3,
             "#f1b6da"
            ],
            [
             0.4,
             "#fde0ef"
            ],
            [
             0.5,
             "#f7f7f7"
            ],
            [
             0.6,
             "#e6f5d0"
            ],
            [
             0.7,
             "#b8e186"
            ],
            [
             0.8,
             "#7fbc41"
            ],
            [
             0.9,
             "#4d9221"
            ],
            [
             1,
             "#276419"
            ]
           ],
           "sequential": [
            [
             0,
             "#0d0887"
            ],
            [
             0.1111111111111111,
             "#46039f"
            ],
            [
             0.2222222222222222,
             "#7201a8"
            ],
            [
             0.3333333333333333,
             "#9c179e"
            ],
            [
             0.4444444444444444,
             "#bd3786"
            ],
            [
             0.5555555555555556,
             "#d8576b"
            ],
            [
             0.6666666666666666,
             "#ed7953"
            ],
            [
             0.7777777777777778,
             "#fb9f3a"
            ],
            [
             0.8888888888888888,
             "#fdca26"
            ],
            [
             1,
             "#f0f921"
            ]
           ],
           "sequentialminus": [
            [
             0,
             "#0d0887"
            ],
            [
             0.1111111111111111,
             "#46039f"
            ],
            [
             0.2222222222222222,
             "#7201a8"
            ],
            [
             0.3333333333333333,
             "#9c179e"
            ],
            [
             0.4444444444444444,
             "#bd3786"
            ],
            [
             0.5555555555555556,
             "#d8576b"
            ],
            [
             0.6666666666666666,
             "#ed7953"
            ],
            [
             0.7777777777777778,
             "#fb9f3a"
            ],
            [
             0.8888888888888888,
             "#fdca26"
            ],
            [
             1,
             "#f0f921"
            ]
           ]
          },
          "colorway": [
           "#636efa",
           "#EF553B",
           "#00cc96",
           "#ab63fa",
           "#FFA15A",
           "#19d3f3",
           "#FF6692",
           "#B6E880",
           "#FF97FF",
           "#FECB52"
          ],
          "font": {
           "color": "#2a3f5f"
          },
          "geo": {
           "bgcolor": "white",
           "lakecolor": "white",
           "landcolor": "#E5ECF6",
           "showlakes": true,
           "showland": true,
           "subunitcolor": "white"
          },
          "hoverlabel": {
           "align": "left"
          },
          "hovermode": "closest",
          "mapbox": {
           "style": "light"
          },
          "paper_bgcolor": "white",
          "plot_bgcolor": "#E5ECF6",
          "polar": {
           "angularaxis": {
            "gridcolor": "white",
            "linecolor": "white",
            "ticks": ""
           },
           "bgcolor": "#E5ECF6",
           "radialaxis": {
            "gridcolor": "white",
            "linecolor": "white",
            "ticks": ""
           }
          },
          "scene": {
           "xaxis": {
            "backgroundcolor": "#E5ECF6",
            "gridcolor": "white",
            "gridwidth": 2,
            "linecolor": "white",
            "showbackground": true,
            "ticks": "",
            "zerolinecolor": "white"
           },
           "yaxis": {
            "backgroundcolor": "#E5ECF6",
            "gridcolor": "white",
            "gridwidth": 2,
            "linecolor": "white",
            "showbackground": true,
            "ticks": "",
            "zerolinecolor": "white"
           },
           "zaxis": {
            "backgroundcolor": "#E5ECF6",
            "gridcolor": "white",
            "gridwidth": 2,
            "linecolor": "white",
            "showbackground": true,
            "ticks": "",
            "zerolinecolor": "white"
           }
          },
          "shapedefaults": {
           "line": {
            "color": "#2a3f5f"
           }
          },
          "ternary": {
           "aaxis": {
            "gridcolor": "white",
            "linecolor": "white",
            "ticks": ""
           },
           "baxis": {
            "gridcolor": "white",
            "linecolor": "white",
            "ticks": ""
           },
           "bgcolor": "#E5ECF6",
           "caxis": {
            "gridcolor": "white",
            "linecolor": "white",
            "ticks": ""
           }
          },
          "title": {
           "x": 0.05
          },
          "xaxis": {
           "automargin": true,
           "gridcolor": "white",
           "linecolor": "white",
           "ticks": "",
           "title": {
            "standoff": 15
           },
           "zerolinecolor": "white",
           "zerolinewidth": 2
          },
          "yaxis": {
           "automargin": true,
           "gridcolor": "white",
           "linecolor": "white",
           "ticks": "",
           "title": {
            "standoff": 15
           },
           "zerolinecolor": "white",
           "zerolinewidth": 2
          }
         }
        }
       }
      },
      "text/html": [
       "<div>                            <div id=\"958c1437-812d-4fc8-9cdd-b898336c660f\" class=\"plotly-graph-div\" style=\"height:525px; width:100%;\"></div>            <script type=\"text/javascript\">                require([\"plotly\"], function(Plotly) {                    window.PLOTLYENV=window.PLOTLYENV || {};                                    if (document.getElementById(\"958c1437-812d-4fc8-9cdd-b898336c660f\")) {                    Plotly.newPlot(                        \"958c1437-812d-4fc8-9cdd-b898336c660f\",                        [{\"mode\":\"text\",\"text\":[\"sagen\",\"fleisch\",\"geben\",\"produkt\",\"neu\",\"prozent\",\"lebensmittel\",\"unternehmen\",\"million\",\"stehen\",\"deutschland\",\"sehen\",\"vieler\",\"insekt\",\"essen\",\"welt\",\"gentechnisch\",\"tier\",\"euro\",\"ver\\u00e4ndert\",\"usa\",\"milliarde\",\"markt\",\"finden\",\"schweiz\",\"deutsch\",\"gentechnik\",\"land\",\"bringen\",\"leben\",\"eu\",\"verbraucher\",\"europa\",\"vegan\",\"landwirtschaft\",\"meat\",\"pflanze\",\"labor\",\"stellen\",\"wichtig\",\"lassen\",\"berlin\",\"pflanzlich\",\"weltweit\",\"firma\",\"liegen\",\"gelten\",\"bleiben\",\"herstellen\",\"setzen\",\"zukunft\",\"zeigen\",\"europ\\u00e4isch\",\"schweizer\",\"halten\",\"ern\\u00e4hrung\",\"frage\",\"kultiviert\",\"startup\",\"protein\",\"problem\",\"produzieren\",\"thema\",\"laut\",\"laborfleisch\",\"brauchen\",\"nachhaltig\",\"produktion\",\"zudem\",\"nehmen\",\"deutlich\",\"stark\",\"berliner\",\"entwickeln\",\"tierisch\",\"preis\",\"geh\\u00f6ren\",\"burger\",\"entwicklung\",\"erkl\\u00e4ren\",\"fall\",\"arbeiten\",\"technologie\",\"einfach\",\"ziel\",\"dollar\",\"klar\",\"klein\",\"hei\\u00dfen\",\"sogar\",\"kosten\",\"bereich\",\"schaffen\",\"forscher\",\"20\",\"f\\u00fchren\",\"wachsen\",\"geld\",\"milch\",\"derzeit\",\"gr\\u00fcne\",\"herstellung\",\"bestehen\",\"studie\",\"genfood\",\"umwelt\",\"zelle\",\"fast\",\"sprechen\",\"bauer\",\"steigen\",\"verkaufen\",\"000\",\"woche\",\"kunde\",\"letzter\",\"erreichen\",\"jung\",\"art\",\"bell\",\"schnell\",\"pro\",\"food\",\"anbau\",\"grund\",\"nutzen\",\"kaufen\",\"nennen\",\"alt\",\"n\\u00e4chster\",\"ttip\",\"entstehen\",\"erhalten\",\"schreiben\",\"alternative\",\"global\",\"franken\",\"gr\\u00fcn\",\"konsument\",\"frau\",\"landwirt\",\"bekommen\",\"enthalten\",\"fordern\",\"z\\u00fcchten\",\"genau\",\"k\\u00fcnftig\",\"schmecken\",\"ver\\u00e4ndern\",\"energie\",\"sicher\",\"anfang\",\"geschmack\",\"30\",\"invitrofleisch\",\"verwenden\",\"\\u00f6kologisch\",\"k\\u00fcnstlich\",\"bund\",\"investor\",\"wasser\",\"gen\",\"soja\",\"risiko\",\"\\u00e4hnlich\",\"idee\",\"15\",\"glauben\",\"fallen\",\"nahrungsmittel\",\"handeln\",\"l\\u00f6sung\",\"knapp\",\"kind\",\"ern\\u00e4hren\",\"international\",\"bieten\",\"genetisch\",\"rindfleisch\",\"leute\",\"vergangen\",\"echt\",\"investieren\",\"forschung\",\"eher\",\"sogenannter\",\"m\\u00f6chten\",\"stammen\",\"konzern\",\"mosa\",\"verschieden\",\"fr\\u00fch\",\"migro\",\"aleph\",\"10\",\"gewinnen\",\"1\",\"politisch\",\"hersteller\",\"nachfrage\",\"wirtschaft\",\"sp\\u00e4t\",\"100\",\"monat\",\"neuartig\",\"meister\",\"direkt\",\"konventionell\",\"gemeinsam\",\"mais\",\"vegetarisch\",\"legen\",\"seite\",\"bislang\",\"bundesrat\",\"entscheiden\",\"zutat\",\"2021\",\"chance\",\"politik\",\"helfen\",\"gesund\",\"kennzeichnung\",\"rind\",\"genmanipuliert\",\"branche\",\"zulassung\",\"gesetz\",\"folge\",\"beispielsweise\",\"denken\",\"ergebnis\",\"foto\",\"50\",\"eigentlich\",\"kuh\",\"teuer\",\"frei\",\"menge\",\"zulassen\",\"br\\u00fcssel\",\"2018\",\"universit\\u00e4t\",\"regel\",\"farms\",\"beginnen\",\"verbieten\",\"gleichzeitig\",\"zahl\",\"spielen\",\"25\",\"steak\",\"mark\",\"staat\",\"wissenschaftlich\",\"industrie\",\"inzwischen\",\"entsprechend\",\"laufen\",\"experte\",\"fisch\",\"natur\",\"verfahren\",\"angabe\",\"\\u00e4ndern\",\"bestimmt\",\"aktuell\",\"restaurant\",\"mehrere\",\"tats\\u00e4chlich\",\"regierung\",\"\\u00fcberzeugen\",\"vorteil\",\"niederl\\u00e4ndisch\",\"--\",\"einzig\",\"herk\\u00f6mmlich\",\"familie\",\"spd\",\"gesundheit\",\"einsatz\",\"innovation\",\"deutsche\",\"handel\",\"schwer\",\"fleischkonsum\",\"kennen\",\"erwarten\",\"kennzeichnen\",\"weiterhin\",\"\\u00f6ffentlich\",\"institut\",\"supermarkt\",\"b\\u00fchler\",\"verzichten\",\"wissenschaftler\",\"umsatz\",\"wert\",\"beyond\",\"projekt\",\"l\\u00e4ssen\",\"gesch\\u00e4ft\",\"trend\",\"18\",\"sozial\",\"tragen\",\"m\\u00f6glichkeit\",\"folgen\",\"sicht\",\"versuchen\",\"tonne\",\"reduzieren\",\"40\",\"teilen\",\"schwein\",\"fest\",\"fleischersatzprodukt\",\"coop\",\"planted\",\"abkommen\",\"schritt\",\"stecken\",\"k\\u00e4se\",\"sorgen\",\"positiv\",\"normal\",\"2\",\"einzeln\",\"information\",\"2020\",\"mittlerweile\",\"feld\",\"fragen\",\"erlauben\",\"grunds\\u00e4tzlich\",\"schlie\\u00dflich\",\"beteiligen\",\"trotz\",\"z\\u00e4hlen\",\"vergleich\",\"zeitung\",\"alternativ\",\"v\\u00f6llig\",\"haus\",\"april\",\"nahrung\",\"eukommission\",\"arbeit\",\"bev\\u00f6lkerung\",\"monsanto\",\"kilogramm\",\"ben\\u00f6tigen\",\"bayer\",\"bedeuten\",\"treffen\",\"ziehen\",\"ver\\u00f6ffentlichen\",\"the\",\"insgesamt\",\"anbauen\",\"kommission\",\"anteil\",\"bauen\",\"startups\",\"z\\u00fcrich\",\"amerikanisch\",\"ebenfalls\",\"gr\\u00fcnden\",\"futter\",\"lehnen\",\"genmais\",\"j\\u00e4hrlich\",\"rolle\",\"industriell\",\"n\\u00f6tig\",\"stammzelle\",\"foods\",\"kommend\",\"futtermittel\",\"unterst\\u00fctzen\",\"gelingen\",\"klimawandel\",\"new\",\"union\",\"anbieten\",\"rechnen\",\"3\",\"verkauf\",\"januar\",\"sonntag\",\"name\",\"verstehen\",\"gesellschaft\",\"fleischersatz\",\"fehlen\",\"gespr\\u00e4ch\",\"post\",\"buch\",\"erkennen\",\"scheinen\",\"planen\",\"juli\",\"erfolg\",\"interesse\",\"funktionieren\",\"fortschritt\",\"k\\u00fcrzlich\",\"wachsend\",\"gesamt\",\"veganer\",\"basis\",\"k\\u00fcche\",\"parlament\",\"angst\",\"erz\\u00e4hlen\",\"genver\\u00e4ndert\",\"organismus\",\"partei\",\"bio\",\"gruppe\",\"versprechen\",\"platz\",\"beh\\u00f6rde\",\"gericht\",\"entscheidung\",\"singapur\",\"frankreich\",\"gering\",\"dennoch\",\"weise\",\"kopf\",\"bevor\",\"b\\u00fcrger\",\"mitarbeiter\",\"erzeugen\",\"original\",\"verlieren\",\"saatgut\",\"methode\",\"liefern\",\"massentierhaltung\",\"l\\u00f6sen\",\"betonen\",\"verarbeiten\",\"blick\",\"gefahr\",\"menschlich\",\"angesichts\",\"dienstag\",\"erstmals\",\"suchen\",\"erbgut\",\"verbot\",\"hunger\",\"herausforderung\",\"einsetzen\",\"bild\",\"israel\",\"ort\",\"besch\\u00e4ftigen\",\"hierzulande\",\"traditionell\",\"mai\",\"paar\",\"gewinn\",\"14\",\"larve\",\"grill\",\"l\\u00e4ngst\",\"wachstum\",\"zumindest\"],\"x\":[9.010771751403809,-21.553306579589844,8.558820724487305,15.805644035339355,2.9639201164245605,-16.225250244140625,20.23147201538086,-19.172101974487305,-18.13783836364746,12.058635711669922,9.010870933532715,7.279818058013916,8.982248306274414,11.371806144714355,12.055608749389648,-1.656531572341919,21.449186325073242,12.62838363647461,-18.3280029296875,21.512893676757812,14.680035591125488,-17.875825881958008,-7.455051898956299,9.918898582458496,0.9688165783882141,13.509174346923828,19.41261100769043,6.4016265869140625,2.83217453956604,-0.4756976366043091,16.195568084716797,17.664934158325195,16.321605682373047,-17.103910446166992,6.051079273223877,-21.9420108795166,20.199724197387695,-19.57631492614746,-6.331177711486816,2.2073276042938232,1.0941511392593384,7.8928022384643555,-18.967361450195312,-11.389897346496582,-15.39831256866455,-11.714386940002441,14.909358978271484,9.83827018737793,-18.687885284423828,1.1886870861053467,7.747308254241943,2.3833656311035156,14.752689361572266,-13.237079620361328,9.43176555633545,-3.809810161590576,12.444674491882324,-21.247962951660156,-19.955364227294922,-18.891691207885742,6.543997764587402,-14.243072509765625,11.100595474243164,-11.950629234313965,-19.855701446533203,-5.353421688079834,-5.866192817687988,-13.87758731842041,-6.448896884918213,8.814386367797852,-7.647436618804932,-1.7451146841049194,4.733104705810547,-13.88741683959961,-20.5218505859375,-17.117446899414062,-5.226864814758301,-20.93100357055664,-11.608831405639648,-7.802841663360596,2.2555506229400635,-13.281649589538574,-13.25358772277832,8.855777740478516,-10.419648170471191,-17.543243408203125,13.242919921875,0.258379727602005,1.328097939491272,-9.916543006896973,-17.853656768798828,-17.09763526916504,2.8563036918640137,-3.2114360332489014,-16.845714569091797,10.122427940368652,-11.348773956298828,-17.518211364746094,14.869051933288574,-0.464197039604187,8.536108016967773,-19.94568634033203,13.60855770111084,0.7297865748405457,16.947134017944336,11.339203834533691,-20.983444213867188,-10.789546966552734,9.536149978637695,9.293408393859863,-15.36080551147461,4.922348499298096,-17.128501892089844,-4.246359348297119,4.246607303619385,-5.201774597167969,-9.791570663452148,-3.0092527866363525,1.089314341545105,-21.450407028198242,-7.774689197540283,-16.443010330200195,-11.897576332092285,18.90293312072754,-3.365689992904663,-3.4895148277282715,9.450325965881348,-11.969134330749512,-2.986250877380371,-14.548426628112793,15.560772895812988,-2.8751986026763916,-4.754207134246826,-3.8079957962036133,-16.746109008789062,-12.073324203491211,-17.456480026245117,8.271195411682129,8.751263618469238,3.986750602722168,10.192638397216797,-0.8930080533027649,12.575491905212402,14.425065040588379,-19.972139358520508,2.983304738998413,11.843918800354004,-15.85562801361084,15.275588035583496,-9.14707088470459,1.6004060506820679,-4.138143539428711,-15.885737419128418,-16.02338409423828,-18.05891990661621,0.4816375970840454,11.058094024658203,-16.488994598388672,6.241522789001465,-13.328639030456543,-6.757237434387207,12.691682815551758,14.86255168914795,13.403623580932617,5.671078205108643,-6.566657066345215,-10.870061874389648,8.43966007232666,0.6436159610748291,14.464781761169434,0.010495844297111034,-5.169504642486572,-16.350177764892578,1.532827377319336,3.016409158706665,0.496778666973114,-5.701460361480713,16.93671989440918,-20.19107437133789,3.9573986530303955,-12.42447566986084,-17.173446655273438,-12.969487190246582,-3.622708797454834,6.238178730010986,-13.459370613098145,8.072975158691406,5.335712909698486,0.2532690763473511,-21.843168258666992,-9.708732604980469,-4.640515327453613,-15.634005546569824,-16.33075714111328,-16.284500122070312,-4.391124248504639,-9.750415802001953,4.323277473449707,4.668806552886963,-9.674639701843262,4.093323230743408,-5.338681697845459,-9.13454532623291,-10.318337440490723,13.258183479309082,7.257343769073486,-4.974210739135742,13.877397537231445,-2.8020668029785156,18.817588806152344,1.2221511602401733,-6.188998699188232,9.78765869140625,0.9452475905418396,14.893630981445312,14.646828651428223,14.738605499267578,-16.476585388183594,9.877248764038086,7.696596622467041,5.767340660095215,5.5821213722229,17.3709716796875,-13.469406127929688,16.4735050201416,-3.570458173751831,13.961447715759277,8.084123611450195,0.06818921864032745,11.435920715332031,-0.6968606114387512,-7.848233222961426,-2.656358242034912,-8.023892402648926,7.448265075683594,-2.1625285148620605,-6.078298568725586,10.127096176147461,-8.178483963012695,12.977649688720703,14.323805809020996,-17.417984008789062,-5.753111839294434,10.422351837158203,-16.02353286743164,0.07657940685749054,15.170026779174805,-9.342503547668457,-11.849867820739746,-7.032783031463623,-16.157014846801758,-16.427820205688477,-4.145516395568848,7.804227828979492,-0.24068374931812286,6.5030927658081055,-6.984017848968506,12.974573135375977,0.7626065015792847,3.312514305114746,-15.10206413269043,3.88759183883667,14.241541862487793,-7.671770095825195,7.828515529632568,5.899135112762451,3.561880350112915,-7.547599792480469,0.38815873861312866,3.1942527294158936,7.548819541931152,-6.183937072753906,8.280319213867188,-20.61458396911621,5.330183982849121,7.953953742980957,2.9511847496032715,-8.917434692382812,6.819879055023193,7.724411964416504,11.844422340393066,-7.468667507171631,9.77316951751709,8.021288871765137,-3.1860265731811523,-9.83320426940918,6.840798377990723,-6.812108993530273,17.7522029876709,-2.261981248855591,3.7410426139831543,-7.935335159301758,2.1420273780822754,-8.86801815032959,5.9389262199401855,1.3204044103622437,-11.60866641998291,-7.944572925567627,-1.8133107423782349,-0.6690142154693604,4.0766215324401855,-4.677416801452637,-10.038796424865723,-8.872386932373047,3.2906198501586914,4.744323253631592,3.7408292293548584,-3.9808645248413086,6.477205276489258,-1.083282232284546,-12.732137680053711,-8.25049877166748,-6.781802654266357,-4.96367883682251,-1.5120751857757568,6.1097822189331055,-5.376665115356445,-18.221786499023438,-9.847640037536621,11.663763046264648,1.1953930854797363,1.9383764266967773,5.314047336578369,9.28740406036377,-3.117809772491455,8.589534759521484,-12.258676528930664,8.625455856323242,-1.0106257200241089,-10.963485717773438,-11.838741302490234,7.847012996673584,6.033376693725586,14.346714973449707,13.348602294921875,2.1700315475463867,-18.294469833374023,1.258714199066162,-3.3057148456573486,-10.431127548217773,12.08240032196045,-10.005785942077637,4.324612140655518,2.516730546951294,9.77299690246582,7.311373233795166,8.245769500732422,-1.1692399978637695,12.957832336425781,14.358133316040039,-8.844599723815918,-3.5528368949890137,10.12000560760498,1.8731303215026855,5.2214460372924805,3.6876556873321533,-9.762489318847656,-13.029234886169434,-7.34039306640625,14.746984481811523,6.258126258850098,-6.744137287139893,-4.489034652709961,-0.8917315006256104,7.333521366119385,4.9976654052734375,-6.401413440704346,-12.548494338989258,6.148694038391113,13.454598426818848,7.456665992736816,-10.027592658996582,-0.02177274413406849,0.774205207824707,9.489908218383789,-4.361113548278809,-9.680098533630371,-0.06448483467102051,13.849942207336426,-9.07447624206543,-4.185694217681885,6.29375696182251,-3.2143657207489014,13.04317855834961,5.007900714874268,-11.820984840393066,-7.58195686340332,8.560598373413086,-5.427557468414307,-5.288090705871582,-1.5714374780654907,9.418764114379883,0.5767958164215088,-6.826688766479492,6.748281478881836,-1.2421737909317017,-8.42921257019043,-1.7997393608093262,9.34863567352295,3.704549789428711,7.469438076019287,-6.479017734527588,-0.01072417851537466,5.11579704284668,7.615346431732178,2.841496467590332,-5.049749374389648,4.418593883514404,-0.17794734239578247,2.7616631984710693,1.8691060543060303,3.8993449211120605,7.408060550689697,11.115447998046875,2.2375476360321045,13.846063613891602,16.86789321899414,12.754698753356934,8.532336235046387,-3.5740857124328613,5.510751724243164,5.7317023277282715,9.517176628112793,5.8060688972473145,0.22369246184825897,-7.371639728546143,4.359095573425293,8.201399803161621,-2.695535898208618,7.419408798217773,4.467055797576904,1.6816644668579102,6.7083821296691895,-3.8136026859283447,3.816617965698242,-0.525667667388916,6.711205959320068,14.34349250793457,8.219287872314453,5.177059650421143,6.234628200531006,5.5685882568359375,4.137729167938232,6.650862693786621,2.577901840209961,11.61534309387207,4.577601432800293,7.774598598480225,7.1172285079956055,5.473760604858398,1.4244502782821655,12.746212005615234,10.14592170715332,1.2698332071304321,5.129176139831543,8.209909439086914,3.2910327911376953,0.1687791347503662,1.907166838645935,6.949504375457764,8.827371597290039,3.4111130237579346,-0.6420388221740723,2.568326473236084,-6.219165325164795,-6.746456623077393,8.169109344482422,8.655210494995117,5.029214382171631,-5.905222415924072,7.882160186767578],\"y\":[-0.43408292531967163,8.270875930786133,6.584219932556152,-2.9205331802368164,8.899238586425781,-9.264185905456543,11.304717063903809,1.7198572158813477,-10.954333305358887,5.077615737915039,11.734277725219727,6.982610702514648,-1.1647135019302368,-1.5962036848068237,-1.710115671157837,8.05184268951416,10.604077339172363,-1.6779823303222656,-11.310135841369629,10.545703887939453,15.16234302520752,-11.430974006652832,-4.099091053009033,3.2450568675994873,7.43425989151001,3.7180726528167725,11.221755027770996,8.866939544677734,3.074101448059082,10.391968727111816,14.777806282043457,11.8569917678833,14.555850982666016,10.293161392211914,5.523823261260986,2.4030513763427734,10.710748672485352,8.302724838256836,0.4565127491950989,12.369815826416016,10.637823104858398,11.893798828125,7.243072986602783,-7.013219833374023,0.3866203725337982,-5.382501602172852,12.172853469848633,6.082045078277588,8.787740707397461,12.785188674926758,-11.095526695251465,13.578744888305664,14.824695587158203,-0.2889205515384674,9.6433744430542,0.5599212050437927,6.328924179077148,4.252782821655273,2.591096878051758,6.333775520324707,-1.6817688941955566,9.289594650268555,6.516436576843262,-8.249597549438477,6.618729114532471,10.254612922668457,9.023783683776855,2.825457811355591,13.459272384643555,7.209319114685059,-5.777080535888672,6.447319984436035,17.003305435180664,5.0855326652526855,7.6525654792785645,-2.8993446826934814,2.1342225074768066,5.53061056137085,6.686925411224365,8.425289154052734,14.614616394042969,5.351890563964844,4.542379856109619,0.38137194514274597,8.412683486938477,-11.388223648071289,10.625664710998535,1.7619175910949707,13.706253051757812,4.058537483215332,-5.524651527404785,-0.20191112160682678,8.66114616394043,-0.355006605386734,-7.289841651916504,7.559052467346191,4.218216419219971,-2.8792896270751953,-2.7344889640808105,13.86547565460205,12.720894813537598,5.629676342010498,-3.7467544078826904,4.7548627853393555,13.732939720153809,13.375149726867676,7.318772315979004,-6.0131025314331055,8.872885704040527,15.663183212280273,-7.583137512207031,-6.86639404296875,-7.977409362792969,15.412800788879395,-6.015836238861084,-7.94719123840332,-8.112496376037598,13.053752899169922,11.395174980163574,1.7023686170578003,13.68620491027832,-6.041764259338379,2.7895567417144775,11.096162796020508,4.82167387008667,9.168876647949219,-5.123680114746094,6.450407981872559,12.806965827941895,-1.0323293209075928,15.70119857788086,-0.8242638111114502,14.34100341796875,5.578335762023926,8.164772987365723,1.3476660251617432,-10.694737434387207,14.931302070617676,-5.958451271057129,16.250829696655273,15.340526580810547,12.200143814086914,12.421757698059082,6.15625,7.414570331573486,6.685667514801025,10.740850448608398,9.292251586914062,-9.05685806274414,15.907795906066895,15.956618309020996,-6.524242877960205,8.124797821044922,-4.359570503234863,8.09930419921875,16.214797973632812,-5.865875720977783,8.578180313110352,15.692748069763184,-9.016420364379883,10.62397289276123,8.523810386657715,-4.506905555725098,11.225028038024902,-5.148038387298584,3.990636110305786,-11.896745681762695,-3.7250750064849854,0.10078874230384827,-6.35974645614624,5.860762596130371,8.336484909057617,-7.133963108062744,-2.96224045753479,-16.66131591796875,8.143957138061523,11.19672966003418,11.65100383758545,4.11077356338501,6.858933925628662,-1.459962010383606,8.655742645263672,-9.904301643371582,10.311999320983887,-12.879976272583008,9.08647346496582,-4.915579319000244,-9.418644905090332,8.53137493133545,3.131542205810547,7.554968357086182,7.119295120239258,1.7026808261871338,4.274009704589844,-7.481707572937012,11.011211395263672,14.741762161254883,14.116050720214844,-8.767311096191406,1.6767618656158447,15.91393756866455,13.037142753601074,-11.645774841308594,-7.515562057495117,-18.828813552856445,-17.154457092285156,-1.8286017179489136,-5.719222545623779,9.33879280090332,10.592613220214844,-18.98623275756836,14.306482315063477,5.081920146942139,15.816247940063477,4.4699578285217285,7.815467357635498,-4.539109230041504,-0.49803751707077026,9.918072700500488,8.16531753540039,-11.890453338623047,-3.375863552093506,-9.364113807678223,9.860855102539062,-8.877620697021484,-12.469756126403809,10.380253791809082,16.20636558532715,13.616032600402832,-8.5792875289917,3.723214626312256,16.635154724121094,13.65183162689209,-11.61939811706543,-2.920562744140625,-0.7776975631713867,-11.586922645568848,5.3571882247924805,12.995885848999023,-18.931133270263672,5.510275363922119,-0.7023695111274719,-0.626893937587738,13.73005485534668,5.063251495361328,-4.192482948303223,11.546080589294434,8.001729965209961,-3.7299985885620117,7.68053674697876,-3.910097122192383,6.025383472442627,-16.484296798706055,10.108128547668457,16.359933853149414,1.2215449810028076,5.48187255859375,-7.863978385925293,-2.312190532684326,-8.819713592529297,9.029296875,1.1198705434799194,-7.645374774932861,-9.191459655761719,4.708553314208984,4.093379497528076,-6.211536407470703,0.7363535761833191,-5.478774547576904,-8.253188133239746,3.5320067405700684,-1.1879864931106567,-9.10619068145752,2.7276599407196045,-14.204269409179688,-7.9517364501953125,-19.66086769104004,15.189587593078613,14.13405990600586,2.036990165710449,11.81197738647461,2.5699143409729004,-10.151589393615723,9.35671615600586,6.436166763305664,6.579229354858398,-6.223026275634766,-11.091962814331055,11.21924114227295,5.242374420166016,14.372286796569824,9.4694242477417,4.228458881378174,16.572784423828125,-7.829835414886475,3.4545469284057617,-11.957620620727539,-10.529242515563965,-18.511070251464844,-6.59153938293457,-0.5264266729354858,-12.464223861694336,5.28103494644165,-10.298105239868164,0.5201971530914307,-1.3733835220336914,-1.146196961402893,-6.189833164215088,1.5298831462860107,4.653489112854004,-4.620189189910889,5.897039413452148,-12.737263679504395,-14.898366928100586,0.36000916361808777,-20.156156539916992,-3.1402769088745117,0.29280802607536316,-1.1201847791671753,-20.538135528564453,3.17095685005188,-13.124658584594727,-22.617525100708008,-18.27008056640625,3.893669605255127,-7.095548152923584,-8.762079238891602,-16.75802230834961,14.90643310546875,-8.40665054321289,-0.8288037180900574,16.409902572631836,-18.012248992919922,-8.752208709716797,-7.957470893859863,1.8063691854476929,1.6048533916473389,-8.991470336914062,-7.414035797119141,-6.45484733581543,-11.259794235229492,2.189436435699463,3.6675302982330322,-12.354734420776367,-20.683143615722656,-18.096036911010742,10.10328197479248,4.147260665893555,-8.45054817199707,1.8768240213394165,3.710257053375244,-3.431749105453491,-21.79276466369629,-0.6560925245285034,0.005685308016836643,-13.017082214355469,10.433987617492676,-1.0139163732528687,-12.161850929260254,10.744562149047852,16.451309204101562,-6.9577250480651855,4.5799150466918945,-18.087345123291016,-22.992347717285156,1.808806300163269,-5.839722156524658,2.6563994884490967,-10.45376205444336,10.037282943725586,18.184499740600586,-12.35299015045166,-8.061422348022461,-14.692955017089844,-12.565467834472656,-2.299410343170166,-1.495111346244812,-11.40800666809082,-19.307600021362305,6.636972427368164,3.062623977661133,-19.400169372558594,-14.17140007019043,5.029223442077637,-20.566896438598633,-4.094921588897705,-10.788053512573242,-21.771953582763672,5.427979469299316,14.939263343811035,-5.572059154510498,-8.578564643859863,-3.721856117248535,-1.7473649978637695,-14.453791618347168,2.3289241790771484,-2.225656270980835,11.267459869384766,-7.377594470977783,-2.0643889904022217,-22.181137084960938,-9.7059965133667,-4.59106969833374,2.960498332977295,-9.834665298461914,-4.788305759429932,6.231803894042969,-18.87225914001465,-11.699936866760254,-16.17095375061035,-19.35114860534668,-2.9498915672302246,13.066758155822754,-19.450687408447266,0.9180383682250977,12.111784934997559,-9.428559303283691,4.33514404296875,-19.769287109375,7.137758255004883,-15.299824714660645,-19.945295333862305,-17.804819107055664,-15.439133644104004,12.584329605102539,-0.45269182324409485,-12.504785537719727,-19.06513023376465,10.727766036987305,-4.415274143218994,-15.148618698120117,-10.953424453735352,0.029390636831521988,-14.689342498779297,-20.136547088623047,-13.986574172973633,-13.619020462036133,2.094257116317749,-13.411401748657227,-19.015413284301758,-21.62141990661621,-16.83949089050293,-10.580225944519043,-18.30027198791504,-9.444771766662598,-19.091487884521484,-9.789244651794434,-19.457895278930664,-23.871936798095703,2.601773977279663,-5.4008636474609375,8.763660430908203,-11.526371002197266,-7.229907512664795,-18.628265380859375,-18.269933700561523,-13.148152351379395,-15.972162246704102,-6.811946868896484,-20.42183494567871,-23.440401077270508,-10.022780418395996,-12.356610298156738,-8.069957733154297,-15.124688148498535,-14.589188575744629,-17.28668785095215,-23.93689727783203,-8.213062286376953,-12.737619400024414,-21.300886154174805],\"type\":\"scatter\"}],                        {\"template\":{\"data\":{\"barpolar\":[{\"marker\":{\"line\":{\"color\":\"#E5ECF6\",\"width\":0.5},\"pattern\":{\"fillmode\":\"overlay\",\"size\":10,\"solidity\":0.2}},\"type\":\"barpolar\"}],\"bar\":[{\"error_x\":{\"color\":\"#2a3f5f\"},\"error_y\":{\"color\":\"#2a3f5f\"},\"marker\":{\"line\":{\"color\":\"#E5ECF6\",\"width\":0.5},\"pattern\":{\"fillmode\":\"overlay\",\"size\":10,\"solidity\":0.2}},\"type\":\"bar\"}],\"carpet\":[{\"aaxis\":{\"endlinecolor\":\"#2a3f5f\",\"gridcolor\":\"white\",\"linecolor\":\"white\",\"minorgridcolor\":\"white\",\"startlinecolor\":\"#2a3f5f\"},\"baxis\":{\"endlinecolor\":\"#2a3f5f\",\"gridcolor\":\"white\",\"linecolor\":\"white\",\"minorgridcolor\":\"white\",\"startlinecolor\":\"#2a3f5f\"},\"type\":\"carpet\"}],\"choropleth\":[{\"colorbar\":{\"outlinewidth\":0,\"ticks\":\"\"},\"type\":\"choropleth\"}],\"contourcarpet\":[{\"colorbar\":{\"outlinewidth\":0,\"ticks\":\"\"},\"type\":\"contourcarpet\"}],\"contour\":[{\"colorbar\":{\"outlinewidth\":0,\"ticks\":\"\"},\"colorscale\":[[0.0,\"#0d0887\"],[0.1111111111111111,\"#46039f\"],[0.2222222222222222,\"#7201a8\"],[0.3333333333333333,\"#9c179e\"],[0.4444444444444444,\"#bd3786\"],[0.5555555555555556,\"#d8576b\"],[0.6666666666666666,\"#ed7953\"],[0.7777777777777778,\"#fb9f3a\"],[0.8888888888888888,\"#fdca26\"],[1.0,\"#f0f921\"]],\"type\":\"contour\"}],\"heatmapgl\":[{\"colorbar\":{\"outlinewidth\":0,\"ticks\":\"\"},\"colorscale\":[[0.0,\"#0d0887\"],[0.1111111111111111,\"#46039f\"],[0.2222222222222222,\"#7201a8\"],[0.3333333333333333,\"#9c179e\"],[0.4444444444444444,\"#bd3786\"],[0.5555555555555556,\"#d8576b\"],[0.6666666666666666,\"#ed7953\"],[0.7777777777777778,\"#fb9f3a\"],[0.8888888888888888,\"#fdca26\"],[1.0,\"#f0f921\"]],\"type\":\"heatmapgl\"}],\"heatmap\":[{\"colorbar\":{\"outlinewidth\":0,\"ticks\":\"\"},\"colorscale\":[[0.0,\"#0d0887\"],[0.1111111111111111,\"#46039f\"],[0.2222222222222222,\"#7201a8\"],[0.3333333333333333,\"#9c179e\"],[0.4444444444444444,\"#bd3786\"],[0.5555555555555556,\"#d8576b\"],[0.6666666666666666,\"#ed7953\"],[0.7777777777777778,\"#fb9f3a\"],[0.8888888888888888,\"#fdca26\"],[1.0,\"#f0f921\"]],\"type\":\"heatmap\"}],\"histogram2dcontour\":[{\"colorbar\":{\"outlinewidth\":0,\"ticks\":\"\"},\"colorscale\":[[0.0,\"#0d0887\"],[0.1111111111111111,\"#46039f\"],[0.2222222222222222,\"#7201a8\"],[0.3333333333333333,\"#9c179e\"],[0.4444444444444444,\"#bd3786\"],[0.5555555555555556,\"#d8576b\"],[0.6666666666666666,\"#ed7953\"],[0.7777777777777778,\"#fb9f3a\"],[0.8888888888888888,\"#fdca26\"],[1.0,\"#f0f921\"]],\"type\":\"histogram2dcontour\"}],\"histogram2d\":[{\"colorbar\":{\"outlinewidth\":0,\"ticks\":\"\"},\"colorscale\":[[0.0,\"#0d0887\"],[0.1111111111111111,\"#46039f\"],[0.2222222222222222,\"#7201a8\"],[0.3333333333333333,\"#9c179e\"],[0.4444444444444444,\"#bd3786\"],[0.5555555555555556,\"#d8576b\"],[0.6666666666666666,\"#ed7953\"],[0.7777777777777778,\"#fb9f3a\"],[0.8888888888888888,\"#fdca26\"],[1.0,\"#f0f921\"]],\"type\":\"histogram2d\"}],\"histogram\":[{\"marker\":{\"pattern\":{\"fillmode\":\"overlay\",\"size\":10,\"solidity\":0.2}},\"type\":\"histogram\"}],\"mesh3d\":[{\"colorbar\":{\"outlinewidth\":0,\"ticks\":\"\"},\"type\":\"mesh3d\"}],\"parcoords\":[{\"line\":{\"colorbar\":{\"outlinewidth\":0,\"ticks\":\"\"}},\"type\":\"parcoords\"}],\"pie\":[{\"automargin\":true,\"type\":\"pie\"}],\"scatter3d\":[{\"line\":{\"colorbar\":{\"outlinewidth\":0,\"ticks\":\"\"}},\"marker\":{\"colorbar\":{\"outlinewidth\":0,\"ticks\":\"\"}},\"type\":\"scatter3d\"}],\"scattercarpet\":[{\"marker\":{\"colorbar\":{\"outlinewidth\":0,\"ticks\":\"\"}},\"type\":\"scattercarpet\"}],\"scattergeo\":[{\"marker\":{\"colorbar\":{\"outlinewidth\":0,\"ticks\":\"\"}},\"type\":\"scattergeo\"}],\"scattergl\":[{\"marker\":{\"colorbar\":{\"outlinewidth\":0,\"ticks\":\"\"}},\"type\":\"scattergl\"}],\"scattermapbox\":[{\"marker\":{\"colorbar\":{\"outlinewidth\":0,\"ticks\":\"\"}},\"type\":\"scattermapbox\"}],\"scatterpolargl\":[{\"marker\":{\"colorbar\":{\"outlinewidth\":0,\"ticks\":\"\"}},\"type\":\"scatterpolargl\"}],\"scatterpolar\":[{\"marker\":{\"colorbar\":{\"outlinewidth\":0,\"ticks\":\"\"}},\"type\":\"scatterpolar\"}],\"scatter\":[{\"fillpattern\":{\"fillmode\":\"overlay\",\"size\":10,\"solidity\":0.2},\"type\":\"scatter\"}],\"scatterternary\":[{\"marker\":{\"colorbar\":{\"outlinewidth\":0,\"ticks\":\"\"}},\"type\":\"scatterternary\"}],\"surface\":[{\"colorbar\":{\"outlinewidth\":0,\"ticks\":\"\"},\"colorscale\":[[0.0,\"#0d0887\"],[0.1111111111111111,\"#46039f\"],[0.2222222222222222,\"#7201a8\"],[0.3333333333333333,\"#9c179e\"],[0.4444444444444444,\"#bd3786\"],[0.5555555555555556,\"#d8576b\"],[0.6666666666666666,\"#ed7953\"],[0.7777777777777778,\"#fb9f3a\"],[0.8888888888888888,\"#fdca26\"],[1.0,\"#f0f921\"]],\"type\":\"surface\"}],\"table\":[{\"cells\":{\"fill\":{\"color\":\"#EBF0F8\"},\"line\":{\"color\":\"white\"}},\"header\":{\"fill\":{\"color\":\"#C8D4E3\"},\"line\":{\"color\":\"white\"}},\"type\":\"table\"}]},\"layout\":{\"annotationdefaults\":{\"arrowcolor\":\"#2a3f5f\",\"arrowhead\":0,\"arrowwidth\":1},\"autotypenumbers\":\"strict\",\"coloraxis\":{\"colorbar\":{\"outlinewidth\":0,\"ticks\":\"\"}},\"colorscale\":{\"diverging\":[[0,\"#8e0152\"],[0.1,\"#c51b7d\"],[0.2,\"#de77ae\"],[0.3,\"#f1b6da\"],[0.4,\"#fde0ef\"],[0.5,\"#f7f7f7\"],[0.6,\"#e6f5d0\"],[0.7,\"#b8e186\"],[0.8,\"#7fbc41\"],[0.9,\"#4d9221\"],[1,\"#276419\"]],\"sequential\":[[0.0,\"#0d0887\"],[0.1111111111111111,\"#46039f\"],[0.2222222222222222,\"#7201a8\"],[0.3333333333333333,\"#9c179e\"],[0.4444444444444444,\"#bd3786\"],[0.5555555555555556,\"#d8576b\"],[0.6666666666666666,\"#ed7953\"],[0.7777777777777778,\"#fb9f3a\"],[0.8888888888888888,\"#fdca26\"],[1.0,\"#f0f921\"]],\"sequentialminus\":[[0.0,\"#0d0887\"],[0.1111111111111111,\"#46039f\"],[0.2222222222222222,\"#7201a8\"],[0.3333333333333333,\"#9c179e\"],[0.4444444444444444,\"#bd3786\"],[0.5555555555555556,\"#d8576b\"],[0.6666666666666666,\"#ed7953\"],[0.7777777777777778,\"#fb9f3a\"],[0.8888888888888888,\"#fdca26\"],[1.0,\"#f0f921\"]]},\"colorway\":[\"#636efa\",\"#EF553B\",\"#00cc96\",\"#ab63fa\",\"#FFA15A\",\"#19d3f3\",\"#FF6692\",\"#B6E880\",\"#FF97FF\",\"#FECB52\"],\"font\":{\"color\":\"#2a3f5f\"},\"geo\":{\"bgcolor\":\"white\",\"lakecolor\":\"white\",\"landcolor\":\"#E5ECF6\",\"showlakes\":true,\"showland\":true,\"subunitcolor\":\"white\"},\"hoverlabel\":{\"align\":\"left\"},\"hovermode\":\"closest\",\"mapbox\":{\"style\":\"light\"},\"paper_bgcolor\":\"white\",\"plot_bgcolor\":\"#E5ECF6\",\"polar\":{\"angularaxis\":{\"gridcolor\":\"white\",\"linecolor\":\"white\",\"ticks\":\"\"},\"bgcolor\":\"#E5ECF6\",\"radialaxis\":{\"gridcolor\":\"white\",\"linecolor\":\"white\",\"ticks\":\"\"}},\"scene\":{\"xaxis\":{\"backgroundcolor\":\"#E5ECF6\",\"gridcolor\":\"white\",\"gridwidth\":2,\"linecolor\":\"white\",\"showbackground\":true,\"ticks\":\"\",\"zerolinecolor\":\"white\"},\"yaxis\":{\"backgroundcolor\":\"#E5ECF6\",\"gridcolor\":\"white\",\"gridwidth\":2,\"linecolor\":\"white\",\"showbackground\":true,\"ticks\":\"\",\"zerolinecolor\":\"white\"},\"zaxis\":{\"backgroundcolor\":\"#E5ECF6\",\"gridcolor\":\"white\",\"gridwidth\":2,\"linecolor\":\"white\",\"showbackground\":true,\"ticks\":\"\",\"zerolinecolor\":\"white\"}},\"shapedefaults\":{\"line\":{\"color\":\"#2a3f5f\"}},\"ternary\":{\"aaxis\":{\"gridcolor\":\"white\",\"linecolor\":\"white\",\"ticks\":\"\"},\"baxis\":{\"gridcolor\":\"white\",\"linecolor\":\"white\",\"ticks\":\"\"},\"bgcolor\":\"#E5ECF6\",\"caxis\":{\"gridcolor\":\"white\",\"linecolor\":\"white\",\"ticks\":\"\"}},\"title\":{\"x\":0.05},\"xaxis\":{\"automargin\":true,\"gridcolor\":\"white\",\"linecolor\":\"white\",\"ticks\":\"\",\"title\":{\"standoff\":15},\"zerolinecolor\":\"white\",\"zerolinewidth\":2},\"yaxis\":{\"automargin\":true,\"gridcolor\":\"white\",\"linecolor\":\"white\",\"ticks\":\"\",\"title\":{\"standoff\":15},\"zerolinecolor\":\"white\",\"zerolinewidth\":2}}}},                        {\"responsive\": true}                    ).then(function(){\n",
       "                            \n",
       "var gd = document.getElementById('958c1437-812d-4fc8-9cdd-b898336c660f');\n",
       "var x = new MutationObserver(function (mutations, observer) {{\n",
       "        var display = window.getComputedStyle(gd).display;\n",
       "        if (!display || display === 'none') {{\n",
       "            console.log([gd, 'removed!']);\n",
       "            Plotly.purge(gd);\n",
       "            observer.disconnect();\n",
       "        }}\n",
       "}});\n",
       "\n",
       "// Listen for the removal of the full notebook cells\n",
       "var notebookContainer = gd.closest('#notebook-container');\n",
       "if (notebookContainer) {{\n",
       "    x.observe(notebookContainer, {childList: true});\n",
       "}}\n",
       "\n",
       "// Listen for the clearing of the current output cell\n",
       "var outputEl = gd.closest('.output');\n",
       "if (outputEl) {{\n",
       "    x.observe(outputEl, {childList: true});\n",
       "}}\n",
       "\n",
       "                        })                };                });            </script>        </div>"
      ]
     },
     "metadata": {},
     "output_type": "display_data"
    }
   ],
   "source": [
    "from sklearn.decomposition import IncrementalPCA    # inital reduction\n",
    "from sklearn.manifold import TSNE                   # final reduction\n",
    "import numpy as np                                  # array handling\n",
    "\n",
    "\n",
    "def reduce_dimensions(model):\n",
    "    num_dimensions = 2  # final num dimensions (2D, 3D, etc)\n",
    "\n",
    "    # extract the words & their vectors, as numpy arrays\n",
    "    vectors = np.asarray(model.wv.vectors)\n",
    "    labels = np.asarray(model.wv.index_to_key)  # fixed-width numpy strings\n",
    "\n",
    "    # reduce using t-SNE\n",
    "    tsne = TSNE(n_components=num_dimensions, random_state=0)\n",
    "    vectors = tsne.fit_transform(vectors)\n",
    "\n",
    "    x_vals = [v[0] for v in vectors]\n",
    "    y_vals = [v[1] for v in vectors]\n",
    "    return x_vals, y_vals, labels\n",
    "\n",
    "\n",
    "x_vals, y_vals, labels = reduce_dimensions(model)\n",
    "\n",
    "def plot_with_plotly(x_vals, y_vals, labels, plot_in_notebook=True):\n",
    "    from plotly.offline import init_notebook_mode, iplot, plot\n",
    "    import plotly.graph_objs as go\n",
    "\n",
    "    trace = go.Scatter(x=x_vals, y=y_vals, mode='text', text=labels)\n",
    "    data = [trace]\n",
    "\n",
    "    if plot_in_notebook:\n",
    "        init_notebook_mode(connected=True)\n",
    "        iplot(data, filename='word-embedding-plot')\n",
    "    else:\n",
    "        plot(data, filename='word-embedding-plot.html')\n",
    "\n",
    "\n",
    "def plot_with_matplotlib(x_vals, y_vals, labels):\n",
    "    import matplotlib.pyplot as plt\n",
    "    import random\n",
    "\n",
    "    random.seed(0)\n",
    "\n",
    "    plt.figure(figsize=(12, 12))\n",
    "    plt.scatter(x_vals, y_vals)\n",
    "\n",
    "    #\n",
    "    # Label randomly subsampled 25 data points\n",
    "    #\n",
    "    indices = list(range(len(labels)))\n",
    "    selected_indices = random.sample(indices, 25)\n",
    "    for i in selected_indices:\n",
    "        plt.annotate(labels[i], (x_vals[i], y_vals[i]))\n",
    "\n",
    "try:\n",
    "    get_ipython()\n",
    "except Exception:\n",
    "    plot_function = plot_with_matplotlib\n",
    "else:\n",
    "    plot_function = plot_with_plotly\n",
    "\n",
    "plot_function(x_vals, y_vals, labels)"
   ]
  },
  {
   "cell_type": "code",
   "execution_count": null,
   "metadata": {},
   "outputs": [],
   "source": []
  }
 ],
 "metadata": {
  "kernelspec": {
   "display_name": "Python 3",
   "language": "python",
   "name": "python3"
  },
  "language_info": {
   "codemirror_mode": {
    "name": "ipython",
    "version": 3
   },
   "file_extension": ".py",
   "mimetype": "text/x-python",
   "name": "python",
   "nbconvert_exporter": "python",
   "pygments_lexer": "ipython3",
   "version": "3.10.10"
  }
 },
 "nbformat": 4,
 "nbformat_minor": 2
}
