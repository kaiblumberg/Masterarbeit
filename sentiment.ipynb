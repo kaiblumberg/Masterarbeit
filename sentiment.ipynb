{
 "cells": [
  {
   "cell_type": "code",
   "execution_count": null,
   "metadata": {},
   "outputs": [],
   "source": [
    "#old\n",
    "from germansentiment import SentimentModel\n",
    "model = SentimentModel()\n",
    "texts = []\n",
    "for index, row in df_raw.iloc[:20].iterrows():\n",
    "    texts.append(df_raw.iloc[index]['Text'])\n",
    "texts\n",
    "result = model.predict_sentiment(texts)\n",
    "print(result)"
   ]
  }
 ],
 "metadata": {
  "language_info": {
   "name": "python"
  }
 },
 "nbformat": 4,
 "nbformat_minor": 2
}
