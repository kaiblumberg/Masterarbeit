{
 "cells": [
  {
   "cell_type": "code",
   "execution_count": 7,
   "metadata": {},
   "outputs": [],
   "source": [
    "# Import required packages\n",
    "import pandas as pd\n",
    "import json"
   ]
  },
  {
   "cell_type": "markdown",
   "metadata": {},
   "source": [
    "### Import magazine names and IDs"
   ]
  },
  {
   "cell_type": "code",
   "execution_count": 8,
   "metadata": {},
   "outputs": [],
   "source": [
    "df = pd.read_csv('c:\\\\Friendcloud\\\\_University\\\\_Masterarbeit\\\\Data\\\\Request\\\\Nexis_Sources_List_2022-03.csv', sep=';')"
   ]
  },
  {
   "cell_type": "code",
   "execution_count": 9,
   "metadata": {},
   "outputs": [],
   "source": [
    "df[['name', 'source_ID']] = df['indexcolumn'].str.split(pat=';', n=3, expand=True)\n",
    "# Clean up the names\n",
    "df['name'] = df['name'].str.replace('/', ' ')\n",
    "df['name'] = df['name'].str.replace('  ', ' ')\n",
    "df['name'] = df['name'].str.replace('  ', ' ')\n",
    "df['name'] = df['name'].str.replace('  ', ' ')\n",
    "df['name'] = df['name'].str.replace(' ', '_')\n",
    "# Clean up the columns and index\n",
    "df.drop('indexcolumn', axis=1, inplace=True)\n",
    "df.reset_index(inplace=True)\n",
    "df.drop('index', axis=1, inplace=True)"
   ]
  },
  {
   "cell_type": "code",
   "execution_count": 10,
   "metadata": {},
   "outputs": [
    {
     "data": {
      "text/html": [
       "<div>\n",
       "<style scoped>\n",
       "    .dataframe tbody tr th:only-of-type {\n",
       "        vertical-align: middle;\n",
       "    }\n",
       "\n",
       "    .dataframe tbody tr th {\n",
       "        vertical-align: top;\n",
       "    }\n",
       "\n",
       "    .dataframe thead th {\n",
       "        text-align: right;\n",
       "    }\n",
       "</style>\n",
       "<table border=\"1\" class=\"dataframe\">\n",
       "  <thead>\n",
       "    <tr style=\"text-align: right;\">\n",
       "      <th></th>\n",
       "      <th>name</th>\n",
       "      <th>source_ID</th>\n",
       "    </tr>\n",
       "  </thead>\n",
       "  <tbody>\n",
       "    <tr>\n",
       "      <th>0</th>\n",
       "      <td>Aachener_Nachrichten</td>\n",
       "      <td>MTA4MjUxOQ</td>\n",
       "    </tr>\n",
       "    <tr>\n",
       "      <th>1</th>\n",
       "      <td>Aachener_Zeitung</td>\n",
       "      <td>MTA4MjUyMA</td>\n",
       "    </tr>\n",
       "    <tr>\n",
       "      <th>2</th>\n",
       "      <td>AFX-Swiss</td>\n",
       "      <td>MTA4NTAyMg</td>\n",
       "    </tr>\n",
       "    <tr>\n",
       "      <th>3</th>\n",
       "      <td>Agence_France_Presse_-_German</td>\n",
       "      <td>MTA4MTQyMA</td>\n",
       "    </tr>\n",
       "    <tr>\n",
       "      <th>4</th>\n",
       "      <td>Agrarzeitung_Ernährungsdienst</td>\n",
       "      <td>MTA4MDg5Nw</td>\n",
       "    </tr>\n",
       "    <tr>\n",
       "      <th>...</th>\n",
       "      <td>...</td>\n",
       "      <td>...</td>\n",
       "    </tr>\n",
       "    <tr>\n",
       "      <th>298</th>\n",
       "      <td>ZEIT_Campus</td>\n",
       "      <td>MTA4NjU4Nw</td>\n",
       "    </tr>\n",
       "    <tr>\n",
       "      <th>299</th>\n",
       "      <td>ZEIT_Geschichte</td>\n",
       "      <td>MTA4MzA2Mw</td>\n",
       "    </tr>\n",
       "    <tr>\n",
       "      <th>300</th>\n",
       "      <td>ZEIT_Wissen</td>\n",
       "      <td>MTA4MzA2NA</td>\n",
       "    </tr>\n",
       "    <tr>\n",
       "      <th>301</th>\n",
       "      <td>ZEIT-online</td>\n",
       "      <td>MTA4MzA2NQ</td>\n",
       "    </tr>\n",
       "    <tr>\n",
       "      <th>302</th>\n",
       "      <td>Zeitschrift_für_das_gesamte_Kreditwesen</td>\n",
       "      <td>MTA4MTQwNg</td>\n",
       "    </tr>\n",
       "  </tbody>\n",
       "</table>\n",
       "<p>303 rows × 2 columns</p>\n",
       "</div>"
      ],
      "text/plain": [
       "                                        name   source_ID\n",
       "0                       Aachener_Nachrichten  MTA4MjUxOQ\n",
       "1                           Aachener_Zeitung  MTA4MjUyMA\n",
       "2                                  AFX-Swiss  MTA4NTAyMg\n",
       "3              Agence_France_Presse_-_German  MTA4MTQyMA\n",
       "4              Agrarzeitung_Ernährungsdienst  MTA4MDg5Nw\n",
       "..                                       ...         ...\n",
       "298                              ZEIT_Campus  MTA4NjU4Nw\n",
       "299                          ZEIT_Geschichte  MTA4MzA2Mw\n",
       "300                              ZEIT_Wissen  MTA4MzA2NA\n",
       "301                              ZEIT-online  MTA4MzA2NQ\n",
       "302  Zeitschrift_für_das_gesamte_Kreditwesen  MTA4MTQwNg\n",
       "\n",
       "[303 rows x 2 columns]"
      ]
     },
     "execution_count": 10,
     "metadata": {},
     "output_type": "execute_result"
    }
   ],
   "source": [
    "df"
   ]
  },
  {
   "cell_type": "markdown",
   "metadata": {},
   "source": [
    "### Import list of keywords"
   ]
  },
  {
   "cell_type": "code",
   "execution_count": 11,
   "metadata": {},
   "outputs": [
    {
     "data": {
      "text/plain": [
       "\"('In-vitro-Fleisch' or 'In-vitro Fleisch' or 'In vitro Fleisch' or 'Kulturfleisch' or 'Cultured Meat' or 'Lab Meat' or 'Cultivated Meat' or 'kultiviertes Fleisch' or 'schlachtfreies Fleisch' or 'Laborfleisch' or 'Designfleisch' or 'Zombiefleisch' or 'zellbasiertes Fleisch' or 'Zuchtfleisch' or 'gezÃ¼chtetes Fleisch' or 'synthetisches Fleisch' or 'Kunstfleisch' or 'kÃ¼nstliches Fleisch' or 'Retortenfleisch' or 'sauberes Fleisch' or 'veganes Fleisch' or 'pflanzenbasiertes Fleisch' or 'pflanzenbasierte Fleischalternative' or 'pflanzenbasiertes Protein' or 'pflanzliches Fleisch' or 'vegane Fleischalternative' or 'PrÃ¤zisionsfermentation' or 'precision fermentation' or 'fermentierte Ersatzprodukte' or 'Insektenproteine' or 'Insektenprotein' or 'Insektenfleisch' or 'Protein aus Insekten' or 'gentechnisch verÃ¤nderte Lebensmittel' or 'gentechnisch modifizierte Lebensmittel' or 'neuartige Lebensmittel' or 'gentechnisch manipulierte Lebensmittel' or 'genmanipulierte Lebensmittel' or 'genmanipuliertes Essen' or 'Gentech-Food' or 'Gen-Food' or 'gentechnikfreie Lebensmittel' or 'Genetically modified foods' or 'GM foods' or 'bioengineered foods' or 'biotechnologisch hergestellte Lebensmittel' or 'biotechnologisch erzeugte Lebensmittel')\""
      ]
     },
     "execution_count": 11,
     "metadata": {},
     "output_type": "execute_result"
    }
   ],
   "source": [
    "with open('c:\\\\Friendcloud\\\\_University\\\\_Masterarbeit\\\\Data\\\\Request\\\\keywords.txt', 'r') as file:\n",
    "    keywords = file.read()\n",
    "keywords"
   ]
  },
  {
   "cell_type": "markdown",
   "metadata": {},
   "source": [
    "### Build the JSONs"
   ]
  },
  {
   "cell_type": "code",
   "execution_count": 12,
   "metadata": {},
   "outputs": [],
   "source": [
    "for index, row in df.iterrows():\n",
    "    json_data = {\"name\": df.iloc[index]['name'], \"search\": keywords, \"filter\": \"Source/Id eq '\" + df.iloc[index]['source_ID'] + \"'\", \"max_documents\": 10000}\n",
    "    with open('c:\\\\Friendcloud\\\\_University\\\\_Masterarbeit\\\\Data\\\\Request\\\\JSONs\\\\' + json_data['name'] + '.json', 'w', encoding='utf-8') as fout:\n",
    "        json.dump(json_data, fout, ensure_ascii=False, indent=4)"
   ]
  }
 ],
 "metadata": {
  "kernelspec": {
   "display_name": "Python 3",
   "language": "python",
   "name": "python3"
  },
  "language_info": {
   "codemirror_mode": {
    "name": "ipython",
    "version": 3
   },
   "file_extension": ".py",
   "mimetype": "text/x-python",
   "name": "python",
   "nbconvert_exporter": "python",
   "pygments_lexer": "ipython3",
   "version": "3.10.10"
  },
  "orig_nbformat": 4
 },
 "nbformat": 4,
 "nbformat_minor": 2
}
