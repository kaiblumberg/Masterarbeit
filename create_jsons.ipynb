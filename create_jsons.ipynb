{
 "cells": [
  {
   "cell_type": "code",
   "execution_count": 1,
   "metadata": {},
   "outputs": [],
   "source": [
    "# Import required packages\n",
    "import pandas as pd\n",
    "import json"
   ]
  },
  {
   "cell_type": "markdown",
   "metadata": {},
   "source": [
    "### Import magazine names and IDs"
   ]
  },
  {
   "cell_type": "code",
   "execution_count": 2,
   "metadata": {},
   "outputs": [],
   "source": [
    "df = pd.read_csv('c:\\\\Friendcloud\\\\_University\\\\_Masterarbeit\\\\Data\\\\Request\\\\Nexis_Sources_List_2023.csv', sep=';')"
   ]
  },
  {
   "cell_type": "code",
   "execution_count": 3,
   "metadata": {},
   "outputs": [],
   "source": [
    "df[['name', 'source_ID']] = df['indexcolumn'].str.split(pat=';', n=3, expand=True)\n",
    "# Clean up the names\n",
    "df['name'] = df['name'].str.replace('/', ' ')\n",
    "df['name'] = df['name'].str.replace('  ', ' ')\n",
    "df['name'] = df['name'].str.replace('  ', ' ')\n",
    "df['name'] = df['name'].str.replace('  ', ' ')\n",
    "df['name'] = df['name'].str.replace(' ', '_')\n",
    "df['name'] = df['name'].str.replace('.', '_')\n",
    "df['name'] = df['name'].str.replace('!', '')\n",
    "df['name'] = df['name'].str.replace(':', '_')\n",
    "df['name'] = df['name'].str.replace(';', '_')\n",
    "df['name'] = df['name'].str.replace('#', '_')\n",
    "df['name'] = df['name'].str.replace('--', '-')\n",
    "df['name'] = df['name'].str.replace('___', '_')\n",
    "df['name'] = df['name'].str.replace('__', '_')\n",
    "df['name'] = df['name'].str.replace('&', 'und')\n",
    "df['name'] = df['name'].str.replace(',', '_')\n",
    "df['name'] = df['name'].str.replace('(', '')\n",
    "df['name'] = df['name'].str.replace(')', '')\n",
    "df['name'] = df['name'].str.lower()\n",
    "# Clean up the columns and index\n",
    "df.drop('indexcolumn', axis=1, inplace=True)\n",
    "df.reset_index(inplace=True)\n",
    "df.drop('index', axis=1, inplace=True)"
   ]
  },
  {
   "cell_type": "code",
   "execution_count": 4,
   "metadata": {},
   "outputs": [
    {
     "data": {
      "text/html": [
       "<div>\n",
       "<style scoped>\n",
       "    .dataframe tbody tr th:only-of-type {\n",
       "        vertical-align: middle;\n",
       "    }\n",
       "\n",
       "    .dataframe tbody tr th {\n",
       "        vertical-align: top;\n",
       "    }\n",
       "\n",
       "    .dataframe thead th {\n",
       "        text-align: right;\n",
       "    }\n",
       "</style>\n",
       "<table border=\"1\" class=\"dataframe\">\n",
       "  <thead>\n",
       "    <tr style=\"text-align: right;\">\n",
       "      <th></th>\n",
       "      <th>name</th>\n",
       "      <th>source_ID</th>\n",
       "    </tr>\n",
       "  </thead>\n",
       "  <tbody>\n",
       "    <tr>\n",
       "      <th>0</th>\n",
       "      <td>aachener_nachrichten</td>\n",
       "      <td>MTA4MjUxOQ</td>\n",
       "    </tr>\n",
       "    <tr>\n",
       "      <th>1</th>\n",
       "      <td>aachener_zeitung</td>\n",
       "      <td>MTA4MjUyMA</td>\n",
       "    </tr>\n",
       "    <tr>\n",
       "      <th>2</th>\n",
       "      <td>aar_bote_germany</td>\n",
       "      <td>MTA4MjUyMQ</td>\n",
       "    </tr>\n",
       "    <tr>\n",
       "      <th>3</th>\n",
       "      <td>about_fleet</td>\n",
       "      <td>MTA5NTMyNg</td>\n",
       "    </tr>\n",
       "    <tr>\n",
       "      <th>4</th>\n",
       "      <td>afx-swiss</td>\n",
       "      <td>MTA4NTAyMg</td>\n",
       "    </tr>\n",
       "    <tr>\n",
       "      <th>...</th>\n",
       "      <td>...</td>\n",
       "      <td>...</td>\n",
       "    </tr>\n",
       "    <tr>\n",
       "      <th>337</th>\n",
       "      <td>zuger_presse</td>\n",
       "      <td>MTA5OTk4OQ</td>\n",
       "    </tr>\n",
       "    <tr>\n",
       "      <th>338</th>\n",
       "      <td>zuger_zeitung</td>\n",
       "      <td>MTA5NTc3Mw</td>\n",
       "    </tr>\n",
       "    <tr>\n",
       "      <th>339</th>\n",
       "      <td>zugerbieter</td>\n",
       "      <td>MTA5OTk4OA</td>\n",
       "    </tr>\n",
       "    <tr>\n",
       "      <th>340</th>\n",
       "      <td>zürcher_unterländer</td>\n",
       "      <td>MTA5NzczMQ</td>\n",
       "    </tr>\n",
       "    <tr>\n",
       "      <th>341</th>\n",
       "      <td>zürichsee-zeitung</td>\n",
       "      <td>MTA5NzczMA</td>\n",
       "    </tr>\n",
       "  </tbody>\n",
       "</table>\n",
       "<p>342 rows × 2 columns</p>\n",
       "</div>"
      ],
      "text/plain": [
       "                     name   source_ID\n",
       "0    aachener_nachrichten  MTA4MjUxOQ\n",
       "1        aachener_zeitung  MTA4MjUyMA\n",
       "2        aar_bote_germany  MTA4MjUyMQ\n",
       "3             about_fleet  MTA5NTMyNg\n",
       "4               afx-swiss  MTA4NTAyMg\n",
       "..                    ...         ...\n",
       "337          zuger_presse  MTA5OTk4OQ\n",
       "338         zuger_zeitung  MTA5NTc3Mw\n",
       "339           zugerbieter  MTA5OTk4OA\n",
       "340   zürcher_unterländer  MTA5NzczMQ\n",
       "341     zürichsee-zeitung  MTA5NzczMA\n",
       "\n",
       "[342 rows x 2 columns]"
      ]
     },
     "execution_count": 4,
     "metadata": {},
     "output_type": "execute_result"
    }
   ],
   "source": [
    "df"
   ]
  },
  {
   "cell_type": "markdown",
   "metadata": {},
   "source": [
    "### Import list of keywords"
   ]
  },
  {
   "cell_type": "code",
   "execution_count": 5,
   "metadata": {},
   "outputs": [
    {
     "data": {
      "text/plain": [
       "\"('In-vitro-Fleisch' or 'In-vitro Fleisch' or 'In vitro Fleisch' or 'Kulturfleisch*' or 'Cultured Meat' or 'Lab Meat' or 'Cultivated Meat' or 'kultiviert* Fleisch' or 'schlachtfrei* Fleisch' or 'Laborfleisch' or 'Designfleisch' or 'Zombiefleisch' or 'zellbasiert* Fleisch' or 'Zuchtfleisch' or 'gezüchtet* Fleisch' or 'synthetisch* Fleisch' or 'Kunstfleisch' or 'künstlich* Fleisch' or 'Retortenfleisch' or 'sauber* Fleisch' or 'vegan* Fleisch' or 'pflanzenbasiert* Fleisch' or 'pflanzenbasiert* Fleischalternative' or 'pflanzenbasiert* Protein' or 'pflanzlich* Fleisch' or 'vegan* Fleischalternative' or 'Präzisionsfermentation' or 'precision fermentation' or 'fermentiert* Ersatzprodukt*' or 'Insektenprotein*' or 'Insektenfleisch' or 'Protein aus Insekten' or 'neuartig* Lebensmittel*' or 'Gentech-Food' or 'Gen-Food' or 'gentechnikfreie Lebensmittel' or 'GM food*' or 'bioengineered foods' or 'biotechnologisch hergestellte Lebensmittel' or 'biotechnologisch erzeugte Lebensmittel' or 'genetical* modified food*' or 'bioengineer* food*'  or 'gentechnisch* hergestellt*' or 'gentechnisch* erzeugt*' or 'gentechnisch* modifiziert*' or 'gentechnisch* manipuliert*' or 'gentechnisch* produziert*' or 'biotechnologisch* hergestellt* Nahrung*' or 'biotechnologisch* erzeugt* Nahrung*' or 'biotechnologisch* verändert* Nahrung*' or 'biotechnologisch* modifiziert* Nahrung*' or 'biotechnologisch* produziert* Nahrung*' or 'gentechnisch hergestellt* Nahrung*' or 'gentechnisch erzeugt* Nahrung*' or 'gentechnisch verändert* Nahrung' or 'gentechnisch modifiziert* Nahrung*' or 'gentechnisch manipuliert* Nahrung*' or 'gentechnisch* produziert* Nahrung' or 'neuartig* Nahrung*' or 'genmanipuliert* Nahrung*' or 'genmanipuliert* Lebens*' or 'Designerfleisch' or 'gen-pflanzen' or 'gen-lebensmittel' or 'agrar-biotechnologie' or 'gentechnisch* verändert*' or 'gentechnisch* modifiziert*' or 'gentechnisch* manipuliert*' or 'genmanipuliert*' or 'genetisch* verändert*' or 'genetisch* modifizier*' or 'genetisch* manipulier*' or 'gentechnik' or 'biotechnologie' or 'biotechnologisch' or 'biotechnologisch* hergestellt*' or 'biotechnologisch* erzeugt*' or 'biotechnologisch* verändert*' or 'biotechnologisch* modifiziert*' or 'biotechnologisch* produziert*')\""
      ]
     },
     "execution_count": 5,
     "metadata": {},
     "output_type": "execute_result"
    }
   ],
   "source": [
    "with open('c:\\\\Friendcloud\\\\_University\\\\_Masterarbeit\\\\Data\\\\Request\\\\keywords.txt', 'r', encoding='utf-8') as file:\n",
    "    keywords = file.read()\n",
    "keywords"
   ]
  },
  {
   "cell_type": "markdown",
   "metadata": {},
   "source": [
    "### Build the JSONs"
   ]
  },
  {
   "cell_type": "code",
   "execution_count": 6,
   "metadata": {},
   "outputs": [],
   "source": [
    "for index, row in df.iterrows():\n",
    "    json_data = {\"name\": df.iloc[index]['name'], \"search\": keywords, \"filter\": \"Source/Id eq '\" + df.iloc[index]['source_ID'] + \"'\", \"max_documents\": 3000}\n",
    "    with open('c:\\\\Friendcloud\\\\_University\\\\_Masterarbeit\\\\Data\\\\Request\\\\JSONs\\\\' + json_data['name'] + '.json', 'w', encoding='utf-8') as fout:\n",
    "        json.dump(json_data, fout, ensure_ascii=False, indent=4)"
   ]
  },
  {
   "cell_type": "markdown",
   "metadata": {},
   "source": [
    "### Format old keywords for thesis"
   ]
  },
  {
   "cell_type": "code",
   "execution_count": 9,
   "metadata": {},
   "outputs": [
    {
     "name": "stdout",
     "output_type": "stream",
     "text": [
      "in-vitro-fleisch, in-vitro fleisch, in vitro fleisch, kulturfleisch, cultured meat, lab meat, cultivated meat, kultiviertes fleisch, schlachtfreies fleisch, laborfleisch, designfleisch, zombiefleisch, zellbasiertes fleisch, zuchtfleisch, gezüchtetes fleisch, synthetisches fleisch, kunstfleisch, künstliches fleisch, retortenfleisch, sauberes fleisch, veganes fleisch, pflanzenbasiertes fleisch, pflanzenbasierte fleischalternative, pflanzenbasiertes protein, pflanzliches fleisch, vegane fleischalternative, präzisionsfermentation, precision fermentation, fermentierte ersatzprodukte, insektenproteine, insektenprotein, insektenfleisch, protein aus insekten, gentechnisch veränderte lebensmittel, gentechnisch modifizierte lebensmittel, neuartige lebensmittel, gentechnisch manipulierte lebensmittel, genmanipulierte lebensmittel, genmanipuliertes essen, gentech-food, gen-food, gentechnikfreie lebensmittel, genetically modified foods, gm foods, bioengineered foods, biotechnologisch hergestellte lebensmittel, biotechnologisch erzeugte lebensmittel\n"
     ]
    }
   ],
   "source": [
    "keywords = \"('In-vitro-Fleisch' or 'In-vitro Fleisch' or 'In vitro Fleisch' or 'Kulturfleisch' or 'Cultured Meat' or 'Lab Meat' or 'Cultivated Meat' or 'kultiviertes Fleisch' or 'schlachtfreies Fleisch' or 'Laborfleisch' or 'Designfleisch' or 'Zombiefleisch' or 'zellbasiertes Fleisch' or 'Zuchtfleisch' or 'gezüchtetes Fleisch' or 'synthetisches Fleisch' or 'Kunstfleisch' or 'künstliches Fleisch' or 'Retortenfleisch' or 'sauberes Fleisch' or 'veganes Fleisch' or 'pflanzenbasiertes Fleisch' or 'pflanzenbasierte Fleischalternative' or 'pflanzenbasiertes Protein' or 'pflanzliches Fleisch' or 'vegane Fleischalternative' or 'Präzisionsfermentation' or 'precision fermentation' or 'fermentierte Ersatzprodukte' or 'Insektenproteine' or 'Insektenprotein' or 'Insektenfleisch' or 'Protein aus Insekten' or 'gentechnisch veränderte Lebensmittel' or 'gentechnisch modifizierte Lebensmittel' or 'neuartige Lebensmittel' or 'gentechnisch manipulierte Lebensmittel' or 'genmanipulierte Lebensmittel' or 'genmanipuliertes Essen' or 'Gentech-Food' or 'Gen-Food' or 'gentechnikfreie Lebensmittel' or 'Genetically modified foods' or 'GM foods' or 'bioengineered foods' or 'biotechnologisch hergestellte Lebensmittel' or 'biotechnologisch erzeugte Lebensmittel')\"\n",
    "\n",
    "# Remove all special characters from the keywords\n",
    "keywords = keywords.replace('(', '')\n",
    "keywords = keywords.replace(')', '')\n",
    "keywords = keywords.replace('\\'', '')\n",
    "keywords = keywords.replace(' or ', ', ')\n",
    "keywords = keywords.lower()\n",
    "\n",
    "print(keywords)"
   ]
  },
  {
   "cell_type": "code",
   "execution_count": null,
   "metadata": {},
   "outputs": [],
   "source": []
  }
 ],
 "metadata": {
  "kernelspec": {
   "display_name": "Python 3",
   "language": "python",
   "name": "python3"
  },
  "language_info": {
   "codemirror_mode": {
    "name": "ipython",
    "version": 3
   },
   "file_extension": ".py",
   "mimetype": "text/x-python",
   "name": "python",
   "nbconvert_exporter": "python",
   "pygments_lexer": "ipython3",
   "version": "3.10.10"
  },
  "orig_nbformat": 4
 },
 "nbformat": 4,
 "nbformat_minor": 2
}
