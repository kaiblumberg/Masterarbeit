{
 "cells": [
  {
   "cell_type": "markdown",
   "metadata": {},
   "source": [
    "### Loading and prerequesites"
   ]
  },
  {
   "cell_type": "code",
   "execution_count": 13,
   "metadata": {},
   "outputs": [],
   "source": [
    "import spacy\n",
    "import pandas as pd\n",
    "import numpy as np\n",
    "import matplotlib.pyplot as plt\n",
    "import scipy\n",
    "import statsmodels.api as sm\n",
    "import gensim\n",
    "import re\n",
    "from pprint import pprint\n",
    "from time import time\n",
    "from collections import defaultdict\n",
    "from gensim import corpora\n",
    "from gensim.test.utils import datapath\n",
    "from gensim import utils\n",
    "import gensim.models\n",
    "from gensim.models.phrases import Phrases, Phraser\n",
    "import multiprocessing\n",
    "from gensim.models import Word2Vec\n",
    "\n",
    "import logging\n",
    "logging.basicConfig(format='%(asctime)s : %(levelname)s : %(message)s', level=logging.INFO)\n",
    "\n",
    "from matplotlib import rcParams\n",
    "rcParams.update({'figure.autolayout': True})\n",
    "\n",
    "cores = multiprocessing.cpu_count()"
   ]
  },
  {
   "cell_type": "code",
   "execution_count": 14,
   "metadata": {},
   "outputs": [],
   "source": [
    "VARIANT = \"MEDIUMs\" # \"SMALL\", \"MEDIUM\" , \"FULL\"\n",
    "\n",
    "if VARIANT == \"SMALL\":\n",
    "    df = pd.read_pickle(\"../Data/df_full.pkl\")\n",
    "    df = df.head(30)\n",
    "elif VARIANT == \"MEDIUM\":\n",
    "    df = pd.read_pickle(\"../Data/df_full.pkl\")\n",
    "    df = df.head(500)\n",
    "else:\n",
    "    df = pd.read_pickle(\"../Data/df_full.pkl\")"
   ]
  },
  {
   "cell_type": "code",
   "execution_count": 15,
   "metadata": {},
   "outputs": [],
   "source": [
    "# Load stopwords from txt file using utf-8 encoding\n",
    "with open(\"../Data/stopwords-de.txt\", \"r\", encoding=\"utf-8\") as file:\n",
    "    stoplist = file.read().split(\"\\n\")"
   ]
  },
  {
   "cell_type": "markdown",
   "metadata": {},
   "source": [
    "### ALT"
   ]
  },
  {
   "cell_type": "code",
   "execution_count": 16,
   "metadata": {},
   "outputs": [
    {
     "name": "stderr",
     "output_type": "stream",
     "text": [
      "2024-02-13 11:23:29,345 : INFO : adding document #0 to Dictionary<0 unique tokens: []>\n",
      "2024-02-13 11:23:29,980 : INFO : built Dictionary<56144 unique tokens: ['abgewinn', 'abhängen', 'abstimmung', 'absturz', 'analyse']...> from 4365 documents (total 1200525 corpus positions)\n",
      "2024-02-13 11:23:29,980 : INFO : Dictionary lifecycle event {'msg': \"built Dictionary<56144 unique tokens: ['abgewinn', 'abhängen', 'abstimmung', 'absturz', 'analyse']...> from 4365 documents (total 1200525 corpus positions)\", 'datetime': '2024-02-13T11:23:29.980695', 'gensim': '4.3.2', 'python': '3.10.10 (tags/v3.10.10:aad5f6a, Feb  7 2023, 17:20:36) [MSC v.1929 64 bit (AMD64)]', 'platform': 'Windows-10-10.0.19045-SP0', 'event': 'created'}\n",
      "2024-02-13 11:23:30,580 : INFO : Dictionary lifecycle event {'fname_or_handle': '../Data/Gensim/dict.dict', 'separately': 'None', 'sep_limit': 10485760, 'ignore': frozenset(), 'datetime': '2024-02-13T11:23:30.580588', 'gensim': '4.3.2', 'python': '3.10.10 (tags/v3.10.10:aad5f6a, Feb  7 2023, 17:20:36) [MSC v.1929 64 bit (AMD64)]', 'platform': 'Windows-10-10.0.19045-SP0', 'event': 'saving'}\n",
      "2024-02-13 11:23:30,594 : INFO : saved ../Data/Gensim/dict.dict\n",
      "2024-02-13 11:23:30,594 : INFO : storing corpus in Matrix Market format to ../Data/Gensim/df_corpus.mm\n",
      "2024-02-13 11:23:30,598 : INFO : saving sparse matrix to ../Data/Gensim/df_corpus.mm\n",
      "2024-02-13 11:23:30,598 : INFO : PROGRESS: saving document #0\n",
      "2024-02-13 11:23:30,735 : INFO : PROGRESS: saving document #1000\n",
      "2024-02-13 11:23:30,878 : INFO : PROGRESS: saving document #2000\n",
      "2024-02-13 11:23:30,996 : INFO : PROGRESS: saving document #3000\n",
      "2024-02-13 11:23:31,118 : INFO : PROGRESS: saving document #4000\n",
      "2024-02-13 11:23:31,166 : INFO : saved 4365x56144 matrix, density=0.353% (864731/245068560)\n",
      "2024-02-13 11:23:31,167 : INFO : saving MmCorpus index to ../Data/Gensim/df_corpus.mm.index\n"
     ]
    }
   ],
   "source": [
    "# Create a list of documents from the dataframe column \"clean_text\"\n",
    "documents = df[\"clean_text\"].values.tolist()\n",
    "\n",
    "# remove common words and tokenize\n",
    "texts = [\n",
    "    [word for word in document.lower().split() if word not in stoplist]\n",
    "    for document in documents\n",
    "]\n",
    "\n",
    "# remove words that appear only once\n",
    "frequency = defaultdict(int)\n",
    "for text in texts:\n",
    "    for token in text:\n",
    "        frequency[token] += 1\n",
    "\n",
    "texts = [\n",
    "    [token for token in text if frequency[token] > 1]\n",
    "    for text in texts\n",
    "]\n",
    "\n",
    "dictionary = corpora.Dictionary(texts)\n",
    "corpus = [dictionary.doc2bow(text) for text in texts]\n",
    "\n",
    "# Save the dictionary and corpus for later use\n",
    "dictionary.save(\"../Data/Gensim/dict.dict\")\n",
    "corpora.MmCorpus.serialize(\"../Data/Gensim/df_corpus.mm\", corpus)"
   ]
  },
  {
   "cell_type": "code",
   "execution_count": 17,
   "metadata": {},
   "outputs": [
    {
     "name": "stderr",
     "output_type": "stream",
     "text": [
      "2024-02-13 11:23:31,186 : INFO : collecting all words and their counts\n",
      "2024-02-13 11:23:31,186 : INFO : PROGRESS: at sentence #0, processed 0 words, keeping 0 word types\n",
      "2024-02-13 11:23:31,316 : INFO : collected 56144 word types from a corpus of 1200525 raw words and 4365 sentences\n",
      "2024-02-13 11:23:31,316 : INFO : Creating a fresh vocabulary\n",
      "2024-02-13 11:23:31,351 : INFO : Word2Vec lifecycle event {'msg': 'effective_min_count=10 retains 13733 unique words (24.46% of original 56144, drops 42411)', 'datetime': '2024-02-13T11:23:31.351376', 'gensim': '4.3.2', 'python': '3.10.10 (tags/v3.10.10:aad5f6a, Feb  7 2023, 17:20:36) [MSC v.1929 64 bit (AMD64)]', 'platform': 'Windows-10-10.0.19045-SP0', 'event': 'prepare_vocab'}\n",
      "2024-02-13 11:23:31,351 : INFO : Word2Vec lifecycle event {'msg': 'effective_min_count=10 leaves 1049930 word corpus (87.46% of original 1200525, drops 150595)', 'datetime': '2024-02-13T11:23:31.351376', 'gensim': '4.3.2', 'python': '3.10.10 (tags/v3.10.10:aad5f6a, Feb  7 2023, 17:20:36) [MSC v.1929 64 bit (AMD64)]', 'platform': 'Windows-10-10.0.19045-SP0', 'event': 'prepare_vocab'}\n",
      "2024-02-13 11:23:31,392 : INFO : deleting the raw counts dictionary of 56144 items\n",
      "2024-02-13 11:23:31,392 : INFO : sample=0.001 downsamples 18 most-common words\n",
      "2024-02-13 11:23:31,396 : INFO : Word2Vec lifecycle event {'msg': 'downsampling leaves estimated 1027764.4924151612 word corpus (97.9%% of prior 1049930)', 'datetime': '2024-02-13T11:23:31.396431', 'gensim': '4.3.2', 'python': '3.10.10 (tags/v3.10.10:aad5f6a, Feb  7 2023, 17:20:36) [MSC v.1929 64 bit (AMD64)]', 'platform': 'Windows-10-10.0.19045-SP0', 'event': 'prepare_vocab'}\n",
      "2024-02-13 11:23:31,459 : INFO : estimated required memory for 13733 words and 100 dimensions: 17852900 bytes\n",
      "2024-02-13 11:23:31,459 : INFO : resetting layer weights\n",
      "2024-02-13 11:23:31,461 : INFO : Word2Vec lifecycle event {'update': False, 'trim_rule': 'None', 'datetime': '2024-02-13T11:23:31.461854', 'gensim': '4.3.2', 'python': '3.10.10 (tags/v3.10.10:aad5f6a, Feb  7 2023, 17:20:36) [MSC v.1929 64 bit (AMD64)]', 'platform': 'Windows-10-10.0.19045-SP0', 'event': 'build_vocab'}\n",
      "2024-02-13 11:23:31,461 : INFO : Word2Vec lifecycle event {'msg': 'training model with 4 workers on 13733 vocabulary and 100 features, using sg=0 hs=0 sample=0.001 negative=5 window=5 shrink_windows=True', 'datetime': '2024-02-13T11:23:31.461854', 'gensim': '4.3.2', 'python': '3.10.10 (tags/v3.10.10:aad5f6a, Feb  7 2023, 17:20:36) [MSC v.1929 64 bit (AMD64)]', 'platform': 'Windows-10-10.0.19045-SP0', 'event': 'train'}\n",
      "2024-02-13 11:23:31,760 : INFO : EPOCH 0: training on 1200525 raw words (1027778 effective words) took 0.3s, 3494599 effective words/s\n",
      "2024-02-13 11:23:32,062 : INFO : EPOCH 1: training on 1200525 raw words (1027717 effective words) took 0.3s, 3423026 effective words/s\n",
      "2024-02-13 11:23:32,357 : INFO : EPOCH 2: training on 1200525 raw words (1027689 effective words) took 0.3s, 3513432 effective words/s\n",
      "2024-02-13 11:23:32,656 : INFO : EPOCH 3: training on 1200525 raw words (1027611 effective words) took 0.3s, 3470638 effective words/s\n",
      "2024-02-13 11:23:32,963 : INFO : EPOCH 4: training on 1200525 raw words (1027879 effective words) took 0.3s, 3366616 effective words/s\n",
      "2024-02-13 11:23:32,964 : INFO : Word2Vec lifecycle event {'msg': 'training on 6002625 raw words (5138674 effective words) took 1.5s, 3427335 effective words/s', 'datetime': '2024-02-13T11:23:32.964405', 'gensim': '4.3.2', 'python': '3.10.10 (tags/v3.10.10:aad5f6a, Feb  7 2023, 17:20:36) [MSC v.1929 64 bit (AMD64)]', 'platform': 'Windows-10-10.0.19045-SP0', 'event': 'train'}\n",
      "2024-02-13 11:23:32,964 : INFO : Word2Vec lifecycle event {'params': 'Word2Vec<vocab=13733, vector_size=100, alpha=0.025>', 'datetime': '2024-02-13T11:23:32.964405', 'gensim': '4.3.2', 'python': '3.10.10 (tags/v3.10.10:aad5f6a, Feb  7 2023, 17:20:36) [MSC v.1929 64 bit (AMD64)]', 'platform': 'Windows-10-10.0.19045-SP0', 'event': 'created'}\n"
     ]
    },
    {
     "name": "stdout",
     "output_type": "stream",
     "text": [
      "word #0/13733 is sagen\n",
      "word #1/13733 is fleisch\n",
      "word #2/13733 is geben\n",
      "word #3/13733 is lebensmittel\n",
      "word #4/13733 is produkt\n",
      "word #5/13733 is neu\n",
      "word #6/13733 is eu\n",
      "word #7/13733 is prozent\n",
      "word #8/13733 is gentechnisch\n",
      "word #9/13733 is unternehmen\n"
     ]
    }
   ],
   "source": [
    "# Build a word2vec model\n",
    "model = gensim.models.Word2Vec(texts, window=5, min_count=10, workers=4)\n",
    "\n",
    "for index, word in enumerate(model.wv.index_to_key):\n",
    "    if index == 10:\n",
    "        break\n",
    "    print(f\"word #{index}/{len(model.wv.index_to_key)} is {word}\")"
   ]
  },
  {
   "cell_type": "code",
   "execution_count": 28,
   "metadata": {},
   "outputs": [
    {
     "name": "stdout",
     "output_type": "stream",
     "text": [
      "Similar words to 'fleisch':\n",
      "laborfleisch: 0.8023892641067505\n",
      "fleischprodukt: 0.7365873456001282\n",
      "kunstfleisch: 0.693586528301239\n",
      "steak: 0.6881596446037292\n",
      "alternative: 0.679298996925354\n",
      "rindfleisch: 0.674889087677002\n",
      "hühnerfleisch: 0.66506028175354\n",
      "schnitzel: 0.6615918278694153\n",
      "flexitarier: 0.6352449655532837\n",
      "kulturfleisch: 0.634269654750824\n",
      "-------------------\n",
      "Similar words to 'vegan':\n",
      "vegetarisch: 0.9666286706924438\n",
      "veggie: 0.9295666813850403\n",
      "fleischlos: 0.9275266528129578\n",
      "wurst: 0.8767037987709045\n",
      "currywurst: 0.8545152544975281\n",
      "fleischersatz: 0.8513873815536499\n",
      "röbe: 0.8452140688896179\n",
      "käsealternative: 0.8422332406044006\n",
      "speisekart: 0.8377646207809448\n",
      "angebot: 0.8373401165008545\n",
      "-------------------\n",
      "Similar words to 'Insekt':\n",
      "heuschrecke: 0.8000679016113281\n",
      "insektenart: 0.7979258298873901\n",
      "mehlwürmer: 0.7908195853233337\n",
      "essbar: 0.7791203260421753\n",
      "speiseplan: 0.7715321183204651\n",
      "nahrhaft: 0.7507984042167664\n",
      "mehlwurm: 0.7502872347831726\n",
      "krabbeltier: 0.7431719899177551\n",
      "käfer: 0.7299635410308838\n",
      "würmer: 0.7217930555343628\n",
      "-------------------\n",
      "Similar words to 'gentechnik':\n",
      "gentechnologie: 0.7765223979949951\n",
      "gentechnikfrei: 0.7162961959838867\n",
      "gentechfrei: 0.7026159167289734\n",
      "ostendorff: 0.6788929104804993\n",
      "genfood: 0.6763955354690552\n",
      "öko: 0.6528420448303223\n",
      "freiwillig: 0.6454127430915833\n",
      "gentech: 0.6450186967849731\n",
      "licht: 0.6399116516113281\n",
      "genmanipuliert: 0.6293290257453918\n"
     ]
    }
   ],
   "source": [
    "print(\"Similar words to 'fleisch':\")\n",
    "similar_words = model.wv.most_similar(positive=[\"fleisch\"])\n",
    "for word, similarity in similar_words:\n",
    "    print(f\"{word}: {similarity}\")\n",
    "print(\"-------------------\")\n",
    "print(\"Similar words to 'vegan':\")\n",
    "similar_words = model.wv.most_similar(positive=[\"vegan\"])\n",
    "for word, similarity in similar_words:\n",
    "    print(f\"{word}: {similarity}\")\n",
    "print(\"-------------------\")\n",
    "print(\"Similar words to 'Insekt':\")\n",
    "similar_words = model.wv.most_similar(positive=[\"insekt\"])\n",
    "for word, similarity in similar_words:\n",
    "    print(f\"{word}: {similarity}\")\n",
    "print(\"-------------------\")\n",
    "print(\"Similar words to 'gentechnik':\")\n",
    "similar_words = model.wv.most_similar(positive=[\"gentechnik\"])\n",
    "for word, similarity in similar_words:\n",
    "    print(f\"{word}: {similarity}\")"
   ]
  },
  {
   "cell_type": "code",
   "execution_count": 6,
   "metadata": {},
   "outputs": [
    {
     "data": {
      "text/html": [
       "        <script type=\"text/javascript\">\n",
       "        window.PlotlyConfig = {MathJaxConfig: 'local'};\n",
       "        if (window.MathJax && window.MathJax.Hub && window.MathJax.Hub.Config) {window.MathJax.Hub.Config({SVG: {font: \"STIX-Web\"}});}\n",
       "        if (typeof require !== 'undefined') {\n",
       "        require.undef(\"plotly\");\n",
       "        requirejs.config({\n",
       "            paths: {\n",
       "                'plotly': ['https://cdn.plot.ly/plotly-2.27.0.min']\n",
       "            }\n",
       "        });\n",
       "        require(['plotly'], function(Plotly) {\n",
       "            window._Plotly = Plotly;\n",
       "        });\n",
       "        }\n",
       "        </script>\n",
       "        "
      ]
     },
     "metadata": {},
     "output_type": "display_data"
    },
    {
     "data": {
      "application/vnd.plotly.v1+json": {
       "config": {
        "linkText": "Export to plot.ly",
        "plotlyServerURL": "https://plot.ly",
        "showLink": false
       },
       "data": [
        {
         "mode": "text",
         "text": [
          "sagen",
          "fleisch",
          "geben",
          "lebensmittel",
          "produkt",
          "neu",
          "eu",
          "prozent",
          "gentechnisch",
          "unternehmen",
          "gentechnik",
          "verändert",
          "deutschland",
          "usa",
          "vieler",
          "stehen",
          "sehen",
          "tier",
          "food",
          "pflanze",
          "gen",
          "markt",
          "deutsch",
          "essen",
          "welt",
          "verbraucher",
          "europa",
          "finden",
          "land",
          "euro",
          "landwirtschaft",
          "us",
          "insekt",
          "europäisch",
          "million",
          "lassen",
          "weltweit",
          "bringen",
          "frage",
          "thema",
          "liegen",
          "wichtig",
          "stellen",
          "gelten",
          "leben",
          "zeigen",
          "zukunft",
          "bleiben",
          "firma",
          "halten",
          "milliarde",
          "setzen",
          "meat",
          "labor",
          "entwicklung",
          "klein",
          "nehmen",
          "kommission",
          "vegan",
          "bauer",
          "problem",
          "burger",
          "laut",
          "herstellen",
          "studie",
          "grün",
          "pflanzlich",
          "schweiz",
          "brauchen",
          "stark",
          "umwelt",
          "enthalten",
          "produktion",
          "soja",
          "derzeit",
          "erklären",
          "entwickeln",
          "ernährung",
          "führen",
          "risiko",
          "arbeiten",
          "produzieren",
          "bereich",
          "technologie",
          "konzern",
          "berlin",
          "start",
          "mais",
          "forscher",
          "ttip",
          "protein",
          "zudem",
          "heißen",
          "fast",
          "einfach",
          "woche",
          "wachsen",
          "global",
          "gentech",
          "sogar",
          "milch",
          "landwirt",
          "kosten",
          "bio",
          "greenpeace",
          "konsument",
          "dollar",
          "fall",
          "preis"
         ],
         "type": "scatter",
         "x": [
          1.4039649963378906,
          3.15763521194458,
          1.668137550354004,
          4.245159149169922,
          4.572094917297363,
          2.662120819091797,
          6.8740925788879395,
          0.8080766797065735,
          4.0054402351379395,
          -0.29586362838745117,
          2.920320987701416,
          3.973844289779663,
          -0.20103174448013306,
          6.066385746002197,
          1.7779004573822021,
          1.7739715576171875,
          1.7323685884475708,
          4.073080062866211,
          -1.4839410781860352,
          4.0722126960754395,
          4.021592140197754,
          4.543083190917969,
          -0.47597119212150574,
          2.906839370727539,
          0.09354107081890106,
          3.7325336933135986,
          6.168133735656738,
          1.2631148099899292,
          0.6787559986114502,
          6.768810272216797,
          1.0666252374649048,
          6.026841163635254,
          3.9755101203918457,
          6.7612080574035645,
          7.360446453094482,
          1.5858383178710938,
          1.2682366371154785,
          2.9825375080108643,
          0.53094482421875,
          0.487162709236145,
          3.527057409286499,
          2.208381175994873,
          1.9676779508590698,
          3.119637966156006,
          0.3345686197280884,
          1.7774319648742676,
          1.5590769052505493,
          1.922610878944397,
          1.3296306133270264,
          1.4312970638275146,
          7.548107147216797,
          2.7609217166900635,
          0.920814573764801,
          3.4182753562927246,
          0.15626727044582367,
          1.1154266595840454,
          1.410075068473816,
          6.966892719268799,
          3.566810369491577,
          1.1884279251098633,
          1.6361382007598877,
          1.4143686294555664,
          4.268969535827637,
          2.934190034866333,
          1.3885130882263184,
          2.307410478591919,
          2.1437158584594727,
          4.288125038146973,
          1.63423752784729,
          2.842755079269409,
          2.424276113510132,
          4.573718070983887,
          2.137263536453247,
          5.455312728881836,
          3.892627477645874,
          2.1895227432250977,
          0.8283289670944214,
          3.095588207244873,
          2.387759208679199,
          2.5292506217956543,
          1.1336076259613037,
          2.701282262802124,
          -0.5470332503318787,
          0.3972092270851135,
          -1.3887845277786255,
          -0.7619845867156982,
          0.5625048875808716,
          4.387380123138428,
          4.03794002532959,
          -2.369616746902466,
          2.1625688076019287,
          3.529376745223999,
          1.6897531747817993,
          3.33046293258667,
          1.2933082580566406,
          -0.10346941649913788,
          2.664552688598633,
          -0.7357569336891174,
          4.398277759552002,
          2.3253862857818604,
          5.951112270355225,
          1.2061246633529663,
          6.257980823516846,
          -0.2903432846069336,
          3.087270736694336,
          4.371710777282715,
          7.576121807098389,
          2.366281032562256,
          5.939833641052246
         ],
         "y": [
          0.108772411942482,
          5.54637336730957,
          -0.9146788120269775,
          -3.6881933212280273,
          -2.5727779865264893,
          0.15906715393066406,
          2.489027261734009,
          -3.302891254425049,
          -5.20150089263916,
          4.485729694366455,
          -5.239719390869141,
          -5.068421363830566,
          -1.8570252656936646,
          1.5893948078155518,
          0.6349614262580872,
          -0.29927265644073486,
          -0.5423374772071838,
          4.198795318603516,
          2.1443779468536377,
          -5.835079193115234,
          -6.232433795928955,
          -0.4915424883365631,
          -1.8475037813186646,
          2.1177725791931152,
          1.529436469078064,
          -4.102134704589844,
          1.8368521928787231,
          -0.24155683815479279,
          -2.101943254470825,
          -0.6160002946853638,
          -4.601381301879883,
          1.1971853971481323,
          2.07956862449646,
          2.4050681591033936,
          -0.1508571058511734,
          1.097164273262024,
          4.306673526763916,
          -0.3289629817008972,
          -0.4333683252334595,
          -0.8042888641357422,
          0.051432203501462936,
          -0.28317975997924805,
          -0.05794193968176842,
          -2.0338830947875977,
          1.3024541139602661,
          -2.1075727939605713,
          2.4482266902923584,
          -1.436590313911438,
          3.673802137374878,
          -1.4255672693252563,
          -0.15873591601848602,
          -0.930325984954834,
          5.992228984832764,
          5.418148040771484,
          3.710444688796997,
          0.6673548817634583,
          -0.5045833587646484,
          2.5811100006103516,
          3.2075395584106445,
          -5.603692531585693,
          1.2467231750488281,
          6.2870588302612305,
          -0.1669144332408905,
          4.828837871551514,
          -2.985959053039551,
          -4.875183582305908,
          5.472099304199219,
          -1.6811212301254272,
          1.831008791923523,
          -0.736265242099762,
          -2.779735803604126,
          -3.5879225730895996,
          4.379692554473877,
          -4.710430145263672,
          -0.38940033316612244,
          -0.828154981136322,
          3.8486201763153076,
          2.3261561393737793,
          -1.438542127609253,
          -3.400172472000122,
          3.474398612976074,
          4.488959789276123,
          3.389859914779663,
          3.821432590484619,
          0.25235697627067566,
          -1.5804622173309326,
          5.481279373168945,
          -5.896581172943115,
          5.23875617980957,
          -1.0592811107635498,
          5.328944683074951,
          -0.8271979689598083,
          -1.3832985162734985,
          0.7359150052070618,
          1.0504575967788696,
          -1.0238984823226929,
          4.213632583618164,
          3.8970999717712402,
          -5.971657752990723,
          0.8962977528572083,
          -3.0125629901885986,
          -5.637950420379639,
          -0.580529510974884,
          -4.221617221832275,
          -6.354896068572998,
          -2.3904731273651123,
          0.026505818590521812,
          -2.0159690380096436,
          -0.572078287601471
         ]
        }
       ],
       "layout": {
        "template": {
         "data": {
          "bar": [
           {
            "error_x": {
             "color": "#2a3f5f"
            },
            "error_y": {
             "color": "#2a3f5f"
            },
            "marker": {
             "line": {
              "color": "#E5ECF6",
              "width": 0.5
             },
             "pattern": {
              "fillmode": "overlay",
              "size": 10,
              "solidity": 0.2
             }
            },
            "type": "bar"
           }
          ],
          "barpolar": [
           {
            "marker": {
             "line": {
              "color": "#E5ECF6",
              "width": 0.5
             },
             "pattern": {
              "fillmode": "overlay",
              "size": 10,
              "solidity": 0.2
             }
            },
            "type": "barpolar"
           }
          ],
          "carpet": [
           {
            "aaxis": {
             "endlinecolor": "#2a3f5f",
             "gridcolor": "white",
             "linecolor": "white",
             "minorgridcolor": "white",
             "startlinecolor": "#2a3f5f"
            },
            "baxis": {
             "endlinecolor": "#2a3f5f",
             "gridcolor": "white",
             "linecolor": "white",
             "minorgridcolor": "white",
             "startlinecolor": "#2a3f5f"
            },
            "type": "carpet"
           }
          ],
          "choropleth": [
           {
            "colorbar": {
             "outlinewidth": 0,
             "ticks": ""
            },
            "type": "choropleth"
           }
          ],
          "contour": [
           {
            "colorbar": {
             "outlinewidth": 0,
             "ticks": ""
            },
            "colorscale": [
             [
              0,
              "#0d0887"
             ],
             [
              0.1111111111111111,
              "#46039f"
             ],
             [
              0.2222222222222222,
              "#7201a8"
             ],
             [
              0.3333333333333333,
              "#9c179e"
             ],
             [
              0.4444444444444444,
              "#bd3786"
             ],
             [
              0.5555555555555556,
              "#d8576b"
             ],
             [
              0.6666666666666666,
              "#ed7953"
             ],
             [
              0.7777777777777778,
              "#fb9f3a"
             ],
             [
              0.8888888888888888,
              "#fdca26"
             ],
             [
              1,
              "#f0f921"
             ]
            ],
            "type": "contour"
           }
          ],
          "contourcarpet": [
           {
            "colorbar": {
             "outlinewidth": 0,
             "ticks": ""
            },
            "type": "contourcarpet"
           }
          ],
          "heatmap": [
           {
            "colorbar": {
             "outlinewidth": 0,
             "ticks": ""
            },
            "colorscale": [
             [
              0,
              "#0d0887"
             ],
             [
              0.1111111111111111,
              "#46039f"
             ],
             [
              0.2222222222222222,
              "#7201a8"
             ],
             [
              0.3333333333333333,
              "#9c179e"
             ],
             [
              0.4444444444444444,
              "#bd3786"
             ],
             [
              0.5555555555555556,
              "#d8576b"
             ],
             [
              0.6666666666666666,
              "#ed7953"
             ],
             [
              0.7777777777777778,
              "#fb9f3a"
             ],
             [
              0.8888888888888888,
              "#fdca26"
             ],
             [
              1,
              "#f0f921"
             ]
            ],
            "type": "heatmap"
           }
          ],
          "heatmapgl": [
           {
            "colorbar": {
             "outlinewidth": 0,
             "ticks": ""
            },
            "colorscale": [
             [
              0,
              "#0d0887"
             ],
             [
              0.1111111111111111,
              "#46039f"
             ],
             [
              0.2222222222222222,
              "#7201a8"
             ],
             [
              0.3333333333333333,
              "#9c179e"
             ],
             [
              0.4444444444444444,
              "#bd3786"
             ],
             [
              0.5555555555555556,
              "#d8576b"
             ],
             [
              0.6666666666666666,
              "#ed7953"
             ],
             [
              0.7777777777777778,
              "#fb9f3a"
             ],
             [
              0.8888888888888888,
              "#fdca26"
             ],
             [
              1,
              "#f0f921"
             ]
            ],
            "type": "heatmapgl"
           }
          ],
          "histogram": [
           {
            "marker": {
             "pattern": {
              "fillmode": "overlay",
              "size": 10,
              "solidity": 0.2
             }
            },
            "type": "histogram"
           }
          ],
          "histogram2d": [
           {
            "colorbar": {
             "outlinewidth": 0,
             "ticks": ""
            },
            "colorscale": [
             [
              0,
              "#0d0887"
             ],
             [
              0.1111111111111111,
              "#46039f"
             ],
             [
              0.2222222222222222,
              "#7201a8"
             ],
             [
              0.3333333333333333,
              "#9c179e"
             ],
             [
              0.4444444444444444,
              "#bd3786"
             ],
             [
              0.5555555555555556,
              "#d8576b"
             ],
             [
              0.6666666666666666,
              "#ed7953"
             ],
             [
              0.7777777777777778,
              "#fb9f3a"
             ],
             [
              0.8888888888888888,
              "#fdca26"
             ],
             [
              1,
              "#f0f921"
             ]
            ],
            "type": "histogram2d"
           }
          ],
          "histogram2dcontour": [
           {
            "colorbar": {
             "outlinewidth": 0,
             "ticks": ""
            },
            "colorscale": [
             [
              0,
              "#0d0887"
             ],
             [
              0.1111111111111111,
              "#46039f"
             ],
             [
              0.2222222222222222,
              "#7201a8"
             ],
             [
              0.3333333333333333,
              "#9c179e"
             ],
             [
              0.4444444444444444,
              "#bd3786"
             ],
             [
              0.5555555555555556,
              "#d8576b"
             ],
             [
              0.6666666666666666,
              "#ed7953"
             ],
             [
              0.7777777777777778,
              "#fb9f3a"
             ],
             [
              0.8888888888888888,
              "#fdca26"
             ],
             [
              1,
              "#f0f921"
             ]
            ],
            "type": "histogram2dcontour"
           }
          ],
          "mesh3d": [
           {
            "colorbar": {
             "outlinewidth": 0,
             "ticks": ""
            },
            "type": "mesh3d"
           }
          ],
          "parcoords": [
           {
            "line": {
             "colorbar": {
              "outlinewidth": 0,
              "ticks": ""
             }
            },
            "type": "parcoords"
           }
          ],
          "pie": [
           {
            "automargin": true,
            "type": "pie"
           }
          ],
          "scatter": [
           {
            "fillpattern": {
             "fillmode": "overlay",
             "size": 10,
             "solidity": 0.2
            },
            "type": "scatter"
           }
          ],
          "scatter3d": [
           {
            "line": {
             "colorbar": {
              "outlinewidth": 0,
              "ticks": ""
             }
            },
            "marker": {
             "colorbar": {
              "outlinewidth": 0,
              "ticks": ""
             }
            },
            "type": "scatter3d"
           }
          ],
          "scattercarpet": [
           {
            "marker": {
             "colorbar": {
              "outlinewidth": 0,
              "ticks": ""
             }
            },
            "type": "scattercarpet"
           }
          ],
          "scattergeo": [
           {
            "marker": {
             "colorbar": {
              "outlinewidth": 0,
              "ticks": ""
             }
            },
            "type": "scattergeo"
           }
          ],
          "scattergl": [
           {
            "marker": {
             "colorbar": {
              "outlinewidth": 0,
              "ticks": ""
             }
            },
            "type": "scattergl"
           }
          ],
          "scattermapbox": [
           {
            "marker": {
             "colorbar": {
              "outlinewidth": 0,
              "ticks": ""
             }
            },
            "type": "scattermapbox"
           }
          ],
          "scatterpolar": [
           {
            "marker": {
             "colorbar": {
              "outlinewidth": 0,
              "ticks": ""
             }
            },
            "type": "scatterpolar"
           }
          ],
          "scatterpolargl": [
           {
            "marker": {
             "colorbar": {
              "outlinewidth": 0,
              "ticks": ""
             }
            },
            "type": "scatterpolargl"
           }
          ],
          "scatterternary": [
           {
            "marker": {
             "colorbar": {
              "outlinewidth": 0,
              "ticks": ""
             }
            },
            "type": "scatterternary"
           }
          ],
          "surface": [
           {
            "colorbar": {
             "outlinewidth": 0,
             "ticks": ""
            },
            "colorscale": [
             [
              0,
              "#0d0887"
             ],
             [
              0.1111111111111111,
              "#46039f"
             ],
             [
              0.2222222222222222,
              "#7201a8"
             ],
             [
              0.3333333333333333,
              "#9c179e"
             ],
             [
              0.4444444444444444,
              "#bd3786"
             ],
             [
              0.5555555555555556,
              "#d8576b"
             ],
             [
              0.6666666666666666,
              "#ed7953"
             ],
             [
              0.7777777777777778,
              "#fb9f3a"
             ],
             [
              0.8888888888888888,
              "#fdca26"
             ],
             [
              1,
              "#f0f921"
             ]
            ],
            "type": "surface"
           }
          ],
          "table": [
           {
            "cells": {
             "fill": {
              "color": "#EBF0F8"
             },
             "line": {
              "color": "white"
             }
            },
            "header": {
             "fill": {
              "color": "#C8D4E3"
             },
             "line": {
              "color": "white"
             }
            },
            "type": "table"
           }
          ]
         },
         "layout": {
          "annotationdefaults": {
           "arrowcolor": "#2a3f5f",
           "arrowhead": 0,
           "arrowwidth": 1
          },
          "autotypenumbers": "strict",
          "coloraxis": {
           "colorbar": {
            "outlinewidth": 0,
            "ticks": ""
           }
          },
          "colorscale": {
           "diverging": [
            [
             0,
             "#8e0152"
            ],
            [
             0.1,
             "#c51b7d"
            ],
            [
             0.2,
             "#de77ae"
            ],
            [
             0.3,
             "#f1b6da"
            ],
            [
             0.4,
             "#fde0ef"
            ],
            [
             0.5,
             "#f7f7f7"
            ],
            [
             0.6,
             "#e6f5d0"
            ],
            [
             0.7,
             "#b8e186"
            ],
            [
             0.8,
             "#7fbc41"
            ],
            [
             0.9,
             "#4d9221"
            ],
            [
             1,
             "#276419"
            ]
           ],
           "sequential": [
            [
             0,
             "#0d0887"
            ],
            [
             0.1111111111111111,
             "#46039f"
            ],
            [
             0.2222222222222222,
             "#7201a8"
            ],
            [
             0.3333333333333333,
             "#9c179e"
            ],
            [
             0.4444444444444444,
             "#bd3786"
            ],
            [
             0.5555555555555556,
             "#d8576b"
            ],
            [
             0.6666666666666666,
             "#ed7953"
            ],
            [
             0.7777777777777778,
             "#fb9f3a"
            ],
            [
             0.8888888888888888,
             "#fdca26"
            ],
            [
             1,
             "#f0f921"
            ]
           ],
           "sequentialminus": [
            [
             0,
             "#0d0887"
            ],
            [
             0.1111111111111111,
             "#46039f"
            ],
            [
             0.2222222222222222,
             "#7201a8"
            ],
            [
             0.3333333333333333,
             "#9c179e"
            ],
            [
             0.4444444444444444,
             "#bd3786"
            ],
            [
             0.5555555555555556,
             "#d8576b"
            ],
            [
             0.6666666666666666,
             "#ed7953"
            ],
            [
             0.7777777777777778,
             "#fb9f3a"
            ],
            [
             0.8888888888888888,
             "#fdca26"
            ],
            [
             1,
             "#f0f921"
            ]
           ]
          },
          "colorway": [
           "#636efa",
           "#EF553B",
           "#00cc96",
           "#ab63fa",
           "#FFA15A",
           "#19d3f3",
           "#FF6692",
           "#B6E880",
           "#FF97FF",
           "#FECB52"
          ],
          "font": {
           "color": "#2a3f5f"
          },
          "geo": {
           "bgcolor": "white",
           "lakecolor": "white",
           "landcolor": "#E5ECF6",
           "showlakes": true,
           "showland": true,
           "subunitcolor": "white"
          },
          "hoverlabel": {
           "align": "left"
          },
          "hovermode": "closest",
          "mapbox": {
           "style": "light"
          },
          "paper_bgcolor": "white",
          "plot_bgcolor": "#E5ECF6",
          "polar": {
           "angularaxis": {
            "gridcolor": "white",
            "linecolor": "white",
            "ticks": ""
           },
           "bgcolor": "#E5ECF6",
           "radialaxis": {
            "gridcolor": "white",
            "linecolor": "white",
            "ticks": ""
           }
          },
          "scene": {
           "xaxis": {
            "backgroundcolor": "#E5ECF6",
            "gridcolor": "white",
            "gridwidth": 2,
            "linecolor": "white",
            "showbackground": true,
            "ticks": "",
            "zerolinecolor": "white"
           },
           "yaxis": {
            "backgroundcolor": "#E5ECF6",
            "gridcolor": "white",
            "gridwidth": 2,
            "linecolor": "white",
            "showbackground": true,
            "ticks": "",
            "zerolinecolor": "white"
           },
           "zaxis": {
            "backgroundcolor": "#E5ECF6",
            "gridcolor": "white",
            "gridwidth": 2,
            "linecolor": "white",
            "showbackground": true,
            "ticks": "",
            "zerolinecolor": "white"
           }
          },
          "shapedefaults": {
           "line": {
            "color": "#2a3f5f"
           }
          },
          "ternary": {
           "aaxis": {
            "gridcolor": "white",
            "linecolor": "white",
            "ticks": ""
           },
           "baxis": {
            "gridcolor": "white",
            "linecolor": "white",
            "ticks": ""
           },
           "bgcolor": "#E5ECF6",
           "caxis": {
            "gridcolor": "white",
            "linecolor": "white",
            "ticks": ""
           }
          },
          "title": {
           "x": 0.05
          },
          "xaxis": {
           "automargin": true,
           "gridcolor": "white",
           "linecolor": "white",
           "ticks": "",
           "title": {
            "standoff": 15
           },
           "zerolinecolor": "white",
           "zerolinewidth": 2
          },
          "yaxis": {
           "automargin": true,
           "gridcolor": "white",
           "linecolor": "white",
           "ticks": "",
           "title": {
            "standoff": 15
           },
           "zerolinecolor": "white",
           "zerolinewidth": 2
          }
         }
        }
       }
      },
      "text/html": [
       "<div>                            <div id=\"f952888e-9d55-4f08-8186-d64565ba46a8\" class=\"plotly-graph-div\" style=\"height:525px; width:100%;\"></div>            <script type=\"text/javascript\">                require([\"plotly\"], function(Plotly) {                    window.PLOTLYENV=window.PLOTLYENV || {};                                    if (document.getElementById(\"f952888e-9d55-4f08-8186-d64565ba46a8\")) {                    Plotly.newPlot(                        \"f952888e-9d55-4f08-8186-d64565ba46a8\",                        [{\"mode\":\"text\",\"text\":[\"sagen\",\"fleisch\",\"geben\",\"lebensmittel\",\"produkt\",\"neu\",\"eu\",\"prozent\",\"gentechnisch\",\"unternehmen\",\"gentechnik\",\"ver\\u00e4ndert\",\"deutschland\",\"usa\",\"vieler\",\"stehen\",\"sehen\",\"tier\",\"food\",\"pflanze\",\"gen\",\"markt\",\"deutsch\",\"essen\",\"welt\",\"verbraucher\",\"europa\",\"finden\",\"land\",\"euro\",\"landwirtschaft\",\"us\",\"insekt\",\"europ\\u00e4isch\",\"million\",\"lassen\",\"weltweit\",\"bringen\",\"frage\",\"thema\",\"liegen\",\"wichtig\",\"stellen\",\"gelten\",\"leben\",\"zeigen\",\"zukunft\",\"bleiben\",\"firma\",\"halten\",\"milliarde\",\"setzen\",\"meat\",\"labor\",\"entwicklung\",\"klein\",\"nehmen\",\"kommission\",\"vegan\",\"bauer\",\"problem\",\"burger\",\"laut\",\"herstellen\",\"studie\",\"gr\\u00fcn\",\"pflanzlich\",\"schweiz\",\"brauchen\",\"stark\",\"umwelt\",\"enthalten\",\"produktion\",\"soja\",\"derzeit\",\"erkl\\u00e4ren\",\"entwickeln\",\"ern\\u00e4hrung\",\"f\\u00fchren\",\"risiko\",\"arbeiten\",\"produzieren\",\"bereich\",\"technologie\",\"konzern\",\"berlin\",\"start\",\"mais\",\"forscher\",\"ttip\",\"protein\",\"zudem\",\"hei\\u00dfen\",\"fast\",\"einfach\",\"woche\",\"wachsen\",\"global\",\"gentech\",\"sogar\",\"milch\",\"landwirt\",\"kosten\",\"bio\",\"greenpeace\",\"konsument\",\"dollar\",\"fall\",\"preis\"],\"x\":[1.4039649963378906,3.15763521194458,1.668137550354004,4.245159149169922,4.572094917297363,2.662120819091797,6.8740925788879395,0.8080766797065735,4.0054402351379395,-0.29586362838745117,2.920320987701416,3.973844289779663,-0.20103174448013306,6.066385746002197,1.7779004573822021,1.7739715576171875,1.7323685884475708,4.073080062866211,-1.4839410781860352,4.0722126960754395,4.021592140197754,4.543083190917969,-0.47597119212150574,2.906839370727539,0.09354107081890106,3.7325336933135986,6.168133735656738,1.2631148099899292,0.6787559986114502,6.768810272216797,1.0666252374649048,6.026841163635254,3.9755101203918457,6.7612080574035645,7.360446453094482,1.5858383178710938,1.2682366371154785,2.9825375080108643,0.53094482421875,0.487162709236145,3.527057409286499,2.208381175994873,1.9676779508590698,3.119637966156006,0.3345686197280884,1.7774319648742676,1.5590769052505493,1.922610878944397,1.3296306133270264,1.4312970638275146,7.548107147216797,2.7609217166900635,0.920814573764801,3.4182753562927246,0.15626727044582367,1.1154266595840454,1.410075068473816,6.966892719268799,3.566810369491577,1.1884279251098633,1.6361382007598877,1.4143686294555664,4.268969535827637,2.934190034866333,1.3885130882263184,2.307410478591919,2.1437158584594727,4.288125038146973,1.63423752784729,2.842755079269409,2.424276113510132,4.573718070983887,2.137263536453247,5.455312728881836,3.892627477645874,2.1895227432250977,0.8283289670944214,3.095588207244873,2.387759208679199,2.5292506217956543,1.1336076259613037,2.701282262802124,-0.5470332503318787,0.3972092270851135,-1.3887845277786255,-0.7619845867156982,0.5625048875808716,4.387380123138428,4.03794002532959,-2.369616746902466,2.1625688076019287,3.529376745223999,1.6897531747817993,3.33046293258667,1.2933082580566406,-0.10346941649913788,2.664552688598633,-0.7357569336891174,4.398277759552002,2.3253862857818604,5.951112270355225,1.2061246633529663,6.257980823516846,-0.2903432846069336,3.087270736694336,4.371710777282715,7.576121807098389,2.366281032562256,5.939833641052246],\"y\":[0.108772411942482,5.54637336730957,-0.9146788120269775,-3.6881933212280273,-2.5727779865264893,0.15906715393066406,2.489027261734009,-3.302891254425049,-5.20150089263916,4.485729694366455,-5.239719390869141,-5.068421363830566,-1.8570252656936646,1.5893948078155518,0.6349614262580872,-0.29927265644073486,-0.5423374772071838,4.198795318603516,2.1443779468536377,-5.835079193115234,-6.232433795928955,-0.4915424883365631,-1.8475037813186646,2.1177725791931152,1.529436469078064,-4.102134704589844,1.8368521928787231,-0.24155683815479279,-2.101943254470825,-0.6160002946853638,-4.601381301879883,1.1971853971481323,2.07956862449646,2.4050681591033936,-0.1508571058511734,1.097164273262024,4.306673526763916,-0.3289629817008972,-0.4333683252334595,-0.8042888641357422,0.051432203501462936,-0.28317975997924805,-0.05794193968176842,-2.0338830947875977,1.3024541139602661,-2.1075727939605713,2.4482266902923584,-1.436590313911438,3.673802137374878,-1.4255672693252563,-0.15873591601848602,-0.930325984954834,5.992228984832764,5.418148040771484,3.710444688796997,0.6673548817634583,-0.5045833587646484,2.5811100006103516,3.2075395584106445,-5.603692531585693,1.2467231750488281,6.2870588302612305,-0.1669144332408905,4.828837871551514,-2.985959053039551,-4.875183582305908,5.472099304199219,-1.6811212301254272,1.831008791923523,-0.736265242099762,-2.779735803604126,-3.5879225730895996,4.379692554473877,-4.710430145263672,-0.38940033316612244,-0.828154981136322,3.8486201763153076,2.3261561393737793,-1.438542127609253,-3.400172472000122,3.474398612976074,4.488959789276123,3.389859914779663,3.821432590484619,0.25235697627067566,-1.5804622173309326,5.481279373168945,-5.896581172943115,5.23875617980957,-1.0592811107635498,5.328944683074951,-0.8271979689598083,-1.3832985162734985,0.7359150052070618,1.0504575967788696,-1.0238984823226929,4.213632583618164,3.8970999717712402,-5.971657752990723,0.8962977528572083,-3.0125629901885986,-5.637950420379639,-0.580529510974884,-4.221617221832275,-6.354896068572998,-2.3904731273651123,0.026505818590521812,-2.0159690380096436,-0.572078287601471],\"type\":\"scatter\"}],                        {\"template\":{\"data\":{\"barpolar\":[{\"marker\":{\"line\":{\"color\":\"#E5ECF6\",\"width\":0.5},\"pattern\":{\"fillmode\":\"overlay\",\"size\":10,\"solidity\":0.2}},\"type\":\"barpolar\"}],\"bar\":[{\"error_x\":{\"color\":\"#2a3f5f\"},\"error_y\":{\"color\":\"#2a3f5f\"},\"marker\":{\"line\":{\"color\":\"#E5ECF6\",\"width\":0.5},\"pattern\":{\"fillmode\":\"overlay\",\"size\":10,\"solidity\":0.2}},\"type\":\"bar\"}],\"carpet\":[{\"aaxis\":{\"endlinecolor\":\"#2a3f5f\",\"gridcolor\":\"white\",\"linecolor\":\"white\",\"minorgridcolor\":\"white\",\"startlinecolor\":\"#2a3f5f\"},\"baxis\":{\"endlinecolor\":\"#2a3f5f\",\"gridcolor\":\"white\",\"linecolor\":\"white\",\"minorgridcolor\":\"white\",\"startlinecolor\":\"#2a3f5f\"},\"type\":\"carpet\"}],\"choropleth\":[{\"colorbar\":{\"outlinewidth\":0,\"ticks\":\"\"},\"type\":\"choropleth\"}],\"contourcarpet\":[{\"colorbar\":{\"outlinewidth\":0,\"ticks\":\"\"},\"type\":\"contourcarpet\"}],\"contour\":[{\"colorbar\":{\"outlinewidth\":0,\"ticks\":\"\"},\"colorscale\":[[0.0,\"#0d0887\"],[0.1111111111111111,\"#46039f\"],[0.2222222222222222,\"#7201a8\"],[0.3333333333333333,\"#9c179e\"],[0.4444444444444444,\"#bd3786\"],[0.5555555555555556,\"#d8576b\"],[0.6666666666666666,\"#ed7953\"],[0.7777777777777778,\"#fb9f3a\"],[0.8888888888888888,\"#fdca26\"],[1.0,\"#f0f921\"]],\"type\":\"contour\"}],\"heatmapgl\":[{\"colorbar\":{\"outlinewidth\":0,\"ticks\":\"\"},\"colorscale\":[[0.0,\"#0d0887\"],[0.1111111111111111,\"#46039f\"],[0.2222222222222222,\"#7201a8\"],[0.3333333333333333,\"#9c179e\"],[0.4444444444444444,\"#bd3786\"],[0.5555555555555556,\"#d8576b\"],[0.6666666666666666,\"#ed7953\"],[0.7777777777777778,\"#fb9f3a\"],[0.8888888888888888,\"#fdca26\"],[1.0,\"#f0f921\"]],\"type\":\"heatmapgl\"}],\"heatmap\":[{\"colorbar\":{\"outlinewidth\":0,\"ticks\":\"\"},\"colorscale\":[[0.0,\"#0d0887\"],[0.1111111111111111,\"#46039f\"],[0.2222222222222222,\"#7201a8\"],[0.3333333333333333,\"#9c179e\"],[0.4444444444444444,\"#bd3786\"],[0.5555555555555556,\"#d8576b\"],[0.6666666666666666,\"#ed7953\"],[0.7777777777777778,\"#fb9f3a\"],[0.8888888888888888,\"#fdca26\"],[1.0,\"#f0f921\"]],\"type\":\"heatmap\"}],\"histogram2dcontour\":[{\"colorbar\":{\"outlinewidth\":0,\"ticks\":\"\"},\"colorscale\":[[0.0,\"#0d0887\"],[0.1111111111111111,\"#46039f\"],[0.2222222222222222,\"#7201a8\"],[0.3333333333333333,\"#9c179e\"],[0.4444444444444444,\"#bd3786\"],[0.5555555555555556,\"#d8576b\"],[0.6666666666666666,\"#ed7953\"],[0.7777777777777778,\"#fb9f3a\"],[0.8888888888888888,\"#fdca26\"],[1.0,\"#f0f921\"]],\"type\":\"histogram2dcontour\"}],\"histogram2d\":[{\"colorbar\":{\"outlinewidth\":0,\"ticks\":\"\"},\"colorscale\":[[0.0,\"#0d0887\"],[0.1111111111111111,\"#46039f\"],[0.2222222222222222,\"#7201a8\"],[0.3333333333333333,\"#9c179e\"],[0.4444444444444444,\"#bd3786\"],[0.5555555555555556,\"#d8576b\"],[0.6666666666666666,\"#ed7953\"],[0.7777777777777778,\"#fb9f3a\"],[0.8888888888888888,\"#fdca26\"],[1.0,\"#f0f921\"]],\"type\":\"histogram2d\"}],\"histogram\":[{\"marker\":{\"pattern\":{\"fillmode\":\"overlay\",\"size\":10,\"solidity\":0.2}},\"type\":\"histogram\"}],\"mesh3d\":[{\"colorbar\":{\"outlinewidth\":0,\"ticks\":\"\"},\"type\":\"mesh3d\"}],\"parcoords\":[{\"line\":{\"colorbar\":{\"outlinewidth\":0,\"ticks\":\"\"}},\"type\":\"parcoords\"}],\"pie\":[{\"automargin\":true,\"type\":\"pie\"}],\"scatter3d\":[{\"line\":{\"colorbar\":{\"outlinewidth\":0,\"ticks\":\"\"}},\"marker\":{\"colorbar\":{\"outlinewidth\":0,\"ticks\":\"\"}},\"type\":\"scatter3d\"}],\"scattercarpet\":[{\"marker\":{\"colorbar\":{\"outlinewidth\":0,\"ticks\":\"\"}},\"type\":\"scattercarpet\"}],\"scattergeo\":[{\"marker\":{\"colorbar\":{\"outlinewidth\":0,\"ticks\":\"\"}},\"type\":\"scattergeo\"}],\"scattergl\":[{\"marker\":{\"colorbar\":{\"outlinewidth\":0,\"ticks\":\"\"}},\"type\":\"scattergl\"}],\"scattermapbox\":[{\"marker\":{\"colorbar\":{\"outlinewidth\":0,\"ticks\":\"\"}},\"type\":\"scattermapbox\"}],\"scatterpolargl\":[{\"marker\":{\"colorbar\":{\"outlinewidth\":0,\"ticks\":\"\"}},\"type\":\"scatterpolargl\"}],\"scatterpolar\":[{\"marker\":{\"colorbar\":{\"outlinewidth\":0,\"ticks\":\"\"}},\"type\":\"scatterpolar\"}],\"scatter\":[{\"fillpattern\":{\"fillmode\":\"overlay\",\"size\":10,\"solidity\":0.2},\"type\":\"scatter\"}],\"scatterternary\":[{\"marker\":{\"colorbar\":{\"outlinewidth\":0,\"ticks\":\"\"}},\"type\":\"scatterternary\"}],\"surface\":[{\"colorbar\":{\"outlinewidth\":0,\"ticks\":\"\"},\"colorscale\":[[0.0,\"#0d0887\"],[0.1111111111111111,\"#46039f\"],[0.2222222222222222,\"#7201a8\"],[0.3333333333333333,\"#9c179e\"],[0.4444444444444444,\"#bd3786\"],[0.5555555555555556,\"#d8576b\"],[0.6666666666666666,\"#ed7953\"],[0.7777777777777778,\"#fb9f3a\"],[0.8888888888888888,\"#fdca26\"],[1.0,\"#f0f921\"]],\"type\":\"surface\"}],\"table\":[{\"cells\":{\"fill\":{\"color\":\"#EBF0F8\"},\"line\":{\"color\":\"white\"}},\"header\":{\"fill\":{\"color\":\"#C8D4E3\"},\"line\":{\"color\":\"white\"}},\"type\":\"table\"}]},\"layout\":{\"annotationdefaults\":{\"arrowcolor\":\"#2a3f5f\",\"arrowhead\":0,\"arrowwidth\":1},\"autotypenumbers\":\"strict\",\"coloraxis\":{\"colorbar\":{\"outlinewidth\":0,\"ticks\":\"\"}},\"colorscale\":{\"diverging\":[[0,\"#8e0152\"],[0.1,\"#c51b7d\"],[0.2,\"#de77ae\"],[0.3,\"#f1b6da\"],[0.4,\"#fde0ef\"],[0.5,\"#f7f7f7\"],[0.6,\"#e6f5d0\"],[0.7,\"#b8e186\"],[0.8,\"#7fbc41\"],[0.9,\"#4d9221\"],[1,\"#276419\"]],\"sequential\":[[0.0,\"#0d0887\"],[0.1111111111111111,\"#46039f\"],[0.2222222222222222,\"#7201a8\"],[0.3333333333333333,\"#9c179e\"],[0.4444444444444444,\"#bd3786\"],[0.5555555555555556,\"#d8576b\"],[0.6666666666666666,\"#ed7953\"],[0.7777777777777778,\"#fb9f3a\"],[0.8888888888888888,\"#fdca26\"],[1.0,\"#f0f921\"]],\"sequentialminus\":[[0.0,\"#0d0887\"],[0.1111111111111111,\"#46039f\"],[0.2222222222222222,\"#7201a8\"],[0.3333333333333333,\"#9c179e\"],[0.4444444444444444,\"#bd3786\"],[0.5555555555555556,\"#d8576b\"],[0.6666666666666666,\"#ed7953\"],[0.7777777777777778,\"#fb9f3a\"],[0.8888888888888888,\"#fdca26\"],[1.0,\"#f0f921\"]]},\"colorway\":[\"#636efa\",\"#EF553B\",\"#00cc96\",\"#ab63fa\",\"#FFA15A\",\"#19d3f3\",\"#FF6692\",\"#B6E880\",\"#FF97FF\",\"#FECB52\"],\"font\":{\"color\":\"#2a3f5f\"},\"geo\":{\"bgcolor\":\"white\",\"lakecolor\":\"white\",\"landcolor\":\"#E5ECF6\",\"showlakes\":true,\"showland\":true,\"subunitcolor\":\"white\"},\"hoverlabel\":{\"align\":\"left\"},\"hovermode\":\"closest\",\"mapbox\":{\"style\":\"light\"},\"paper_bgcolor\":\"white\",\"plot_bgcolor\":\"#E5ECF6\",\"polar\":{\"angularaxis\":{\"gridcolor\":\"white\",\"linecolor\":\"white\",\"ticks\":\"\"},\"bgcolor\":\"#E5ECF6\",\"radialaxis\":{\"gridcolor\":\"white\",\"linecolor\":\"white\",\"ticks\":\"\"}},\"scene\":{\"xaxis\":{\"backgroundcolor\":\"#E5ECF6\",\"gridcolor\":\"white\",\"gridwidth\":2,\"linecolor\":\"white\",\"showbackground\":true,\"ticks\":\"\",\"zerolinecolor\":\"white\"},\"yaxis\":{\"backgroundcolor\":\"#E5ECF6\",\"gridcolor\":\"white\",\"gridwidth\":2,\"linecolor\":\"white\",\"showbackground\":true,\"ticks\":\"\",\"zerolinecolor\":\"white\"},\"zaxis\":{\"backgroundcolor\":\"#E5ECF6\",\"gridcolor\":\"white\",\"gridwidth\":2,\"linecolor\":\"white\",\"showbackground\":true,\"ticks\":\"\",\"zerolinecolor\":\"white\"}},\"shapedefaults\":{\"line\":{\"color\":\"#2a3f5f\"}},\"ternary\":{\"aaxis\":{\"gridcolor\":\"white\",\"linecolor\":\"white\",\"ticks\":\"\"},\"baxis\":{\"gridcolor\":\"white\",\"linecolor\":\"white\",\"ticks\":\"\"},\"bgcolor\":\"#E5ECF6\",\"caxis\":{\"gridcolor\":\"white\",\"linecolor\":\"white\",\"ticks\":\"\"}},\"title\":{\"x\":0.05},\"xaxis\":{\"automargin\":true,\"gridcolor\":\"white\",\"linecolor\":\"white\",\"ticks\":\"\",\"title\":{\"standoff\":15},\"zerolinecolor\":\"white\",\"zerolinewidth\":2},\"yaxis\":{\"automargin\":true,\"gridcolor\":\"white\",\"linecolor\":\"white\",\"ticks\":\"\",\"title\":{\"standoff\":15},\"zerolinecolor\":\"white\",\"zerolinewidth\":2}}}},                        {\"responsive\": true}                    ).then(function(){\n",
       "                            \n",
       "var gd = document.getElementById('f952888e-9d55-4f08-8186-d64565ba46a8');\n",
       "var x = new MutationObserver(function (mutations, observer) {{\n",
       "        var display = window.getComputedStyle(gd).display;\n",
       "        if (!display || display === 'none') {{\n",
       "            console.log([gd, 'removed!']);\n",
       "            Plotly.purge(gd);\n",
       "            observer.disconnect();\n",
       "        }}\n",
       "}});\n",
       "\n",
       "// Listen for the removal of the full notebook cells\n",
       "var notebookContainer = gd.closest('#notebook-container');\n",
       "if (notebookContainer) {{\n",
       "    x.observe(notebookContainer, {childList: true});\n",
       "}}\n",
       "\n",
       "// Listen for the clearing of the current output cell\n",
       "var outputEl = gd.closest('.output');\n",
       "if (outputEl) {{\n",
       "    x.observe(outputEl, {childList: true});\n",
       "}}\n",
       "\n",
       "                        })                };                });            </script>        </div>"
      ]
     },
     "metadata": {},
     "output_type": "display_data"
    }
   ],
   "source": [
    "# old, from https://radimrehurek.com/gensim/auto_examples/tutorials/run_word2vec.html#sphx-glr-auto-examples-tutorials-run-word2vec-py\n",
    "from sklearn.decomposition import IncrementalPCA    # inital reduction\n",
    "from sklearn.manifold import TSNE                   # final reduction\n",
    "import numpy as np                                  # array handling\n",
    "\n",
    "\n",
    "def reduce_dimensions(model):\n",
    "    num_dimensions = 2  # final num dimensions (2D, 3D, etc)\n",
    "\n",
    "    # extract the words & their vectors, as numpy arrays\n",
    "    vectors = np.asarray(model.wv.vectors)\n",
    "    labels = np.asarray(model.wv.index_to_key)  # fixed-width numpy strings\n",
    "\n",
    "    # reduce using t-SNE\n",
    "    tsne = TSNE(n_components=num_dimensions, random_state=0)\n",
    "    vectors = tsne.fit_transform(vectors)\n",
    "\n",
    "    x_vals = [v[0] for v in vectors]\n",
    "    y_vals = [v[1] for v in vectors]\n",
    "    return x_vals, y_vals, labels\n",
    "\n",
    "\n",
    "x_vals, y_vals, labels = reduce_dimensions(model)\n",
    "\n",
    "def plot_with_plotly(x_vals, y_vals, labels, plot_in_notebook=True):\n",
    "    from plotly.offline import init_notebook_mode, iplot, plot\n",
    "    import plotly.graph_objs as go\n",
    "\n",
    "    trace = go.Scatter(x=x_vals, y=y_vals, mode='text', text=labels)\n",
    "    data = [trace]\n",
    "\n",
    "    if plot_in_notebook:\n",
    "        init_notebook_mode(connected=True)\n",
    "        iplot(data, filename='word-embedding-plot')\n",
    "    else:\n",
    "        plot(data, filename='word-embedding-plot.html')\n",
    "\n",
    "\n",
    "def plot_with_matplotlib(x_vals, y_vals, labels):\n",
    "    import matplotlib.pyplot as plt\n",
    "    import random\n",
    "\n",
    "    random.seed(0)\n",
    "\n",
    "    plt.figure(figsize=(12, 12))\n",
    "    plt.scatter(x_vals, y_vals)\n",
    "\n",
    "    #\n",
    "    # Label randomly subsampled 25 data points\n",
    "    #\n",
    "    indices = list(range(len(labels)))\n",
    "    selected_indices = random.sample(indices, 25)\n",
    "    for i in selected_indices:\n",
    "        plt.annotate(labels[i], (x_vals[i], y_vals[i]))\n",
    "\n",
    "try:\n",
    "    get_ipython()\n",
    "except Exception:\n",
    "    plot_function = plot_with_matplotlib\n",
    "else:\n",
    "    plot_function = plot_with_plotly\n",
    "\n",
    "plot_function(x_vals, y_vals, labels)"
   ]
  },
  {
   "cell_type": "code",
   "execution_count": null,
   "metadata": {},
   "outputs": [],
   "source": []
  }
 ],
 "metadata": {
  "kernelspec": {
   "display_name": "Python 3",
   "language": "python",
   "name": "python3"
  },
  "language_info": {
   "codemirror_mode": {
    "name": "ipython",
    "version": 3
   },
   "file_extension": ".py",
   "mimetype": "text/x-python",
   "name": "python",
   "nbconvert_exporter": "python",
   "pygments_lexer": "ipython3",
   "version": "3.10.10"
  }
 },
 "nbformat": 4,
 "nbformat_minor": 2
}
